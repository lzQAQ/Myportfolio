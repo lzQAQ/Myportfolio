{
 "cells": [
  {
   "cell_type": "markdown",
   "metadata": {},
   "source": [
    "# Logistics Fact Table Pipeline"
   ]
  },
  {
   "cell_type": "code",
   "execution_count": 7,
   "metadata": {},
   "outputs": [],
   "source": [
    "#Import libraries\n",
    "import sqlite3\n",
    "import json\n",
    "import pandas as pd\n",
    "import requests"
   ]
  },
  {
   "cell_type": "code",
   "execution_count": 8,
   "metadata": {},
   "outputs": [],
   "source": [
    "#Create a connection object to run commands\n",
    "conn = sqlite3.connect('new_db.db')\n",
    "cursor = conn.cursor()"
   ]
  },
  {
   "cell_type": "code",
   "execution_count": 9,
   "metadata": {},
   "outputs": [],
   "source": [
    "Profitability = pd.read_excel('FINAL DB.xlsx', sheet_name = 0)"
   ]
  },
  {
   "cell_type": "code",
   "execution_count": 10,
   "metadata": {},
   "outputs": [],
   "source": [
    "Logistics = pd.read_excel('FINAL DB.xlsx', sheet_name = 1)"
   ]
  },
  {
   "cell_type": "code",
   "execution_count": 11,
   "metadata": {},
   "outputs": [],
   "source": [
    "#Create Logistics Fact Table & specify data types and constraints\n",
    "create_table_query = \"\"\" CREATE TABLE  Logistic_Fact_Table\n",
    "(Order_ID NUMERIC PRIMARY KEY,\n",
    "Customer_ID NUMERIC NOT NULL,\n",
    "Tracking_ID NUMERIC NOT NULL,\n",
    "Area_Code NUMERIC NOT NULL,\n",
    "Country NUMERIC NOT NULL, \n",
    "City TEXT NOT NULL, \n",
    "Storage_Quantity NUMERIC NOT NULL)\"\"\""
   ]
  },
  {
   "cell_type": "code",
   "execution_count": 12,
   "metadata": {},
   "outputs": [],
   "source": [
    "#Execute query and make change permanent\n",
    "cursor.execute(create_table_query)\n",
    "conn.commit()"
   ]
  },
  {
   "cell_type": "code",
   "execution_count": 13,
   "metadata": {},
   "outputs": [],
   "source": [
    "#Create all dimensions for Logistics Fact Table:\n",
    "\n",
    "#Create Customer Returns Dimension table connected to Logistics Fact Table\n",
    "create_returns_dimension = \"\"\" CREATE TABLE  returns_dimension\n",
    "(Order_ID NUMERIC PRIMARY KEY,\n",
    "Product_ID NUMERIC NOT NULL,\n",
    "Status TEXT NOT NULL,\n",
    "Return_Date TEXT NOT NULL,\n",
    "Amount INTEGER NOT NULL,\n",
    "Reason_for_Return TEXT NOT NULL)\"\"\"\n",
    "\n",
    "#Execute query and make change permanent\n",
    "cursor.execute(create_returns_dimension)  \n",
    "conn.commit() "
   ]
  },
  {
   "cell_type": "code",
   "execution_count": 14,
   "metadata": {},
   "outputs": [],
   "source": [
    "#Create Order dimension table connected to Logistics Fact Table\n",
    "create_order_dimension = \"\"\" CREATE TABLE order_dimension\n",
    "(Order_ID NUMERIC PRIMARY KEY,\n",
    "Product_ID NUMERIC NOT NULL,\n",
    "Customer_ID NUMERIC NOT NULL,\n",
    "Order_place_Date NUMERIC NOT NULL, \n",
    "Return_Status TEXT NOT NULL,\n",
    "Delivery_Status TEXT NOT NULL)\"\"\"\n",
    "\n",
    "#Execute query and make change permanent\n",
    "cursor.execute(create_order_dimension)  \n",
    "conn.commit() "
   ]
  },
  {
   "cell_type": "code",
   "execution_count": 15,
   "metadata": {},
   "outputs": [],
   "source": [
    "#Create Inventory Management dimension table connected to Logistics Fact Table\n",
    "create_inventory_dimension = \"\"\" CREATE TABLE  inventory_dimension\n",
    "(Order_ID NUMERIC PRIMARY KEY,\n",
    "Date_Received TEXT NOT NULL,\n",
    "Quantity NUMERIC NOT NULL,\n",
    "Shipment_Date NUMERIC NOT NULL,\n",
    "Shipment_Quantity NUMERIC NOT NULL,\n",
    "Inspection_Date NUMERIC NOT NULL,\n",
    "Quantity_Inspected NUMERIC NOT NULL)\"\"\"\n",
    "\n",
    "#Execute query and make change permanent\n",
    "cursor.execute(create_inventory_dimension)  \n",
    "conn.commit() "
   ]
  },
  {
   "cell_type": "code",
   "execution_count": 16,
   "metadata": {},
   "outputs": [],
   "source": [
    "#Create Tracking dimension table connected to Logistics Fact Table\n",
    "create_tracking_dimension = \"\"\" CREATE TABLE  tracking_dimension\n",
    "(Tracking_ID NUMERIC PRIMARY KEY,\n",
    "Warehouse_ID NUMERIC NOT NULL,\n",
    "Customer_Address TEXT NOT NULL,\n",
    "Shipping_Mode TEXT NOT NULL,\n",
    "Order_Pickup_Date NUMERIC NOT NULL,\n",
    "Delivery_Date NUMERIC NOT NULL,\n",
    "Package_Weight NUMERIC NOT NULL,\n",
    "Shipping_Cost NUMERIC NOT NULL,\n",
    "Delivery_Status TEXT NOT NULL)\"\"\"\n",
    "\n",
    "#Execute query and make change permanent\n",
    "cursor.execute(create_tracking_dimension) \n",
    "conn.commit() "
   ]
  },
  {
   "cell_type": "code",
   "execution_count": 17,
   "metadata": {},
   "outputs": [],
   "source": [
    "#Create Shipping dimension table connected to Logistics Fact Table\n",
    "create_shipping_dimension = \"\"\" CREATE TABLE  shipping_dimension\n",
    "(Tracking_ID NUMERIC PRIMARY KEY,\n",
    "Shipping_ID NUMERIC NOT NULL,\n",
    "Carrier_ID NUMERIC NOT NULL,\n",
    "Damage_Status TEXT NOT NULL,\n",
    "Quantity_of_Spoilage NUMERIC NOT NULL)\"\"\"\n",
    "\n",
    "#Execute query and make change permanent\n",
    "cursor.execute(create_shipping_dimension)\n",
    "conn.commit()   "
   ]
  },
  {
   "cell_type": "code",
   "execution_count": 18,
   "metadata": {},
   "outputs": [],
   "source": [
    "#Create Carrier dimension table connected to Logistics Fact Table\n",
    "create_carrier_dimension = \"\"\" CREATE TABLE  carrier_dimension\n",
    "(Carrier_ID NUMERIC PRIMARY KEY,\n",
    "Carrier_Name TEXT NOT NULL,\n",
    "Carrier_Address TEXT NOT NULL,\n",
    "Carrier_City TEXT NOT NULL,\n",
    "Carrier_Province TEXT NOT NULL,\n",
    "Carrier_Country TEXT NOT NULL,\n",
    "Post_Code OBJECT NOT NULL,\n",
    "Phone_Number NUMERIC NOT NULL)\"\"\"\n",
    "\n",
    "#Execute query and make change permanent\n",
    "cursor.execute(create_carrier_dimension)  \n",
    "conn.commit() "
   ]
  },
  {
   "cell_type": "code",
   "execution_count": 19,
   "metadata": {},
   "outputs": [],
   "source": [
    "#Create Warehouse dimension table connected to Logistics Fact Table\n",
    "create_warehouse_dimension = \"\"\" CREATE TABLE  warehouse_dimension\n",
    "(Warehouse_ID NUMERIC PRIMARY KEY,\n",
    "Warehouse_Name TEXT NOT NULL,\n",
    "Manager TEXT NOT NULL,\n",
    "Size NUMERIC NOT NULL,\n",
    "Type TEXT NOT NULL,\n",
    "Region TEXT NOT NULL,\n",
    "Address TEXT NOT NULL,\n",
    "Row NUMERIC NOT NULL,\n",
    "Shell_number NUMERIC NOT NULL)\"\"\"\n",
    "\n",
    "#Execute query and make change permanent\n",
    "cursor.execute(create_warehouse_dimension)  \n",
    "conn.commit() "
   ]
  },
  {
   "cell_type": "code",
   "execution_count": 20,
   "metadata": {},
   "outputs": [
    {
     "name": "stderr",
     "output_type": "stream",
     "text": [
      "/var/folders/hz/ykyh731j4wvc21cj6rsxtyy80000gn/T/ipykernel_21716/3509309299.py:3: SettingWithCopyWarning: \n",
      "A value is trying to be set on a copy of a slice from a DataFrame.\n",
      "Try using .loc[row_indexer,col_indexer] = value instead\n",
      "\n",
      "See the caveats in the documentation: https://pandas.pydata.org/pandas-docs/stable/user_guide/indexing.html#returning-a-view-versus-a-copy\n",
      "  Logistic_Fact_Table['Order_ID'] = Logistic_Fact_Table['Order_ID'].astype(str)\n",
      "/var/folders/hz/ykyh731j4wvc21cj6rsxtyy80000gn/T/ipykernel_21716/3509309299.py:4: SettingWithCopyWarning: \n",
      "A value is trying to be set on a copy of a slice from a DataFrame.\n",
      "Try using .loc[row_indexer,col_indexer] = value instead\n",
      "\n",
      "See the caveats in the documentation: https://pandas.pydata.org/pandas-docs/stable/user_guide/indexing.html#returning-a-view-versus-a-copy\n",
      "  Logistic_Fact_Table['Customer_ID'] = Logistic_Fact_Table['Customer_ID'].astype(str)\n",
      "/var/folders/hz/ykyh731j4wvc21cj6rsxtyy80000gn/T/ipykernel_21716/3509309299.py:5: SettingWithCopyWarning: \n",
      "A value is trying to be set on a copy of a slice from a DataFrame.\n",
      "Try using .loc[row_indexer,col_indexer] = value instead\n",
      "\n",
      "See the caveats in the documentation: https://pandas.pydata.org/pandas-docs/stable/user_guide/indexing.html#returning-a-view-versus-a-copy\n",
      "  Logistic_Fact_Table['Tracking_ID'] = Logistic_Fact_Table['Tracking_ID'].astype(str)\n",
      "/var/folders/hz/ykyh731j4wvc21cj6rsxtyy80000gn/T/ipykernel_21716/3509309299.py:6: SettingWithCopyWarning: \n",
      "A value is trying to be set on a copy of a slice from a DataFrame.\n",
      "Try using .loc[row_indexer,col_indexer] = value instead\n",
      "\n",
      "See the caveats in the documentation: https://pandas.pydata.org/pandas-docs/stable/user_guide/indexing.html#returning-a-view-versus-a-copy\n",
      "  Logistic_Fact_Table['Area_code'] = Logistic_Fact_Table['Area_code'].astype(str)\n",
      "/var/folders/hz/ykyh731j4wvc21cj6rsxtyy80000gn/T/ipykernel_21716/3509309299.py:7: SettingWithCopyWarning: \n",
      "A value is trying to be set on a copy of a slice from a DataFrame.\n",
      "Try using .loc[row_indexer,col_indexer] = value instead\n",
      "\n",
      "See the caveats in the documentation: https://pandas.pydata.org/pandas-docs/stable/user_guide/indexing.html#returning-a-view-versus-a-copy\n",
      "  Logistic_Fact_Table['Country'] = Logistic_Fact_Table['Country'].astype(str)\n",
      "/var/folders/hz/ykyh731j4wvc21cj6rsxtyy80000gn/T/ipykernel_21716/3509309299.py:8: SettingWithCopyWarning: \n",
      "A value is trying to be set on a copy of a slice from a DataFrame.\n",
      "Try using .loc[row_indexer,col_indexer] = value instead\n",
      "\n",
      "See the caveats in the documentation: https://pandas.pydata.org/pandas-docs/stable/user_guide/indexing.html#returning-a-view-versus-a-copy\n",
      "  Logistic_Fact_Table['City'] = Logistic_Fact_Table['City'].astype(str)\n",
      "/var/folders/hz/ykyh731j4wvc21cj6rsxtyy80000gn/T/ipykernel_21716/3509309299.py:9: SettingWithCopyWarning: \n",
      "A value is trying to be set on a copy of a slice from a DataFrame.\n",
      "Try using .loc[row_indexer,col_indexer] = value instead\n",
      "\n",
      "See the caveats in the documentation: https://pandas.pydata.org/pandas-docs/stable/user_guide/indexing.html#returning-a-view-versus-a-copy\n",
      "  Logistic_Fact_Table['Storage_Quantity'] = Logistic_Fact_Table['Storage_Quantity'].astype(str)\n"
     ]
    }
   ],
   "source": [
    "Logistic_Fact_Table = Logistics[['Order_ID', 'Customer_ID', 'Tracking_ID', 'Area_code', 'Country', 'City', 'Storage_Quantity']]\n",
    "\n",
    "Logistic_Fact_Table['Order_ID'] = Logistic_Fact_Table['Order_ID'].astype(str) \n",
    "Logistic_Fact_Table['Customer_ID'] = Logistic_Fact_Table['Customer_ID'].astype(str) \n",
    "Logistic_Fact_Table['Tracking_ID'] = Logistic_Fact_Table['Tracking_ID'].astype(str) \n",
    "Logistic_Fact_Table['Area_code'] = Logistic_Fact_Table['Area_code'].astype(str) \n",
    "Logistic_Fact_Table['Country'] = Logistic_Fact_Table['Country'].astype(str) \n",
    "Logistic_Fact_Table['City'] = Logistic_Fact_Table['City'].astype(str) \n",
    "Logistic_Fact_Table['Storage_Quantity'] = Logistic_Fact_Table['Storage_Quantity'].astype(str) "
   ]
  },
  {
   "cell_type": "code",
   "execution_count": 21,
   "metadata": {},
   "outputs": [
    {
     "name": "stdout",
     "output_type": "stream",
     "text": [
      "New data inserted successfully\n"
     ]
    }
   ],
   "source": [
    "def insert_records(recordList):\n",
    "    insert_record_query = \"\"\" INSERT INTO Logistic_Fact_Table (Order_ID, Customer_ID, Tracking_ID, Area_Code, Country, City, Storage_Quantity) VALUES (?, ?,?,?,?,?,?)\"\"\"\n",
    "    cursor.executemany(insert_record_query, recordList)\n",
    "    conn.commit()\n",
    "    print('New data inserted successfully')\n",
    "\n",
    "#Insert records in a list\n",
    "insert_list = Logistic_Fact_Table.to_records(index=False)\n",
    "insert_records(insert_list)"
   ]
  },
  {
   "cell_type": "code",
   "execution_count": 22,
   "metadata": {},
   "outputs": [
    {
     "name": "stderr",
     "output_type": "stream",
     "text": [
      "/var/folders/hz/ykyh731j4wvc21cj6rsxtyy80000gn/T/ipykernel_21716/1667627323.py:2: SettingWithCopyWarning: \n",
      "A value is trying to be set on a copy of a slice from a DataFrame.\n",
      "Try using .loc[row_indexer,col_indexer] = value instead\n",
      "\n",
      "See the caveats in the documentation: https://pandas.pydata.org/pandas-docs/stable/user_guide/indexing.html#returning-a-view-versus-a-copy\n",
      "  returns_dimension['Order_ID'] = returns_dimension['Order_ID'].astype(str)\n",
      "/var/folders/hz/ykyh731j4wvc21cj6rsxtyy80000gn/T/ipykernel_21716/1667627323.py:3: SettingWithCopyWarning: \n",
      "A value is trying to be set on a copy of a slice from a DataFrame.\n",
      "Try using .loc[row_indexer,col_indexer] = value instead\n",
      "\n",
      "See the caveats in the documentation: https://pandas.pydata.org/pandas-docs/stable/user_guide/indexing.html#returning-a-view-versus-a-copy\n",
      "  returns_dimension['Product_ID'] = returns_dimension['Product_ID'].astype(str)\n",
      "/var/folders/hz/ykyh731j4wvc21cj6rsxtyy80000gn/T/ipykernel_21716/1667627323.py:4: SettingWithCopyWarning: \n",
      "A value is trying to be set on a copy of a slice from a DataFrame.\n",
      "Try using .loc[row_indexer,col_indexer] = value instead\n",
      "\n",
      "See the caveats in the documentation: https://pandas.pydata.org/pandas-docs/stable/user_guide/indexing.html#returning-a-view-versus-a-copy\n",
      "  returns_dimension['Status'] = returns_dimension['Status'].astype(str)\n",
      "/var/folders/hz/ykyh731j4wvc21cj6rsxtyy80000gn/T/ipykernel_21716/1667627323.py:5: SettingWithCopyWarning: \n",
      "A value is trying to be set on a copy of a slice from a DataFrame.\n",
      "Try using .loc[row_indexer,col_indexer] = value instead\n",
      "\n",
      "See the caveats in the documentation: https://pandas.pydata.org/pandas-docs/stable/user_guide/indexing.html#returning-a-view-versus-a-copy\n",
      "  returns_dimension['Return_Date'] = returns_dimension['Return_Date'].astype(str)\n",
      "/var/folders/hz/ykyh731j4wvc21cj6rsxtyy80000gn/T/ipykernel_21716/1667627323.py:6: SettingWithCopyWarning: \n",
      "A value is trying to be set on a copy of a slice from a DataFrame.\n",
      "Try using .loc[row_indexer,col_indexer] = value instead\n",
      "\n",
      "See the caveats in the documentation: https://pandas.pydata.org/pandas-docs/stable/user_guide/indexing.html#returning-a-view-versus-a-copy\n",
      "  returns_dimension['Amount'] = returns_dimension['Amount'].astype(str)\n",
      "/var/folders/hz/ykyh731j4wvc21cj6rsxtyy80000gn/T/ipykernel_21716/1667627323.py:7: SettingWithCopyWarning: \n",
      "A value is trying to be set on a copy of a slice from a DataFrame.\n",
      "Try using .loc[row_indexer,col_indexer] = value instead\n",
      "\n",
      "See the caveats in the documentation: https://pandas.pydata.org/pandas-docs/stable/user_guide/indexing.html#returning-a-view-versus-a-copy\n",
      "  returns_dimension['Reason_for_Return'] = returns_dimension['Reason_for_Return'].astype(str)\n"
     ]
    }
   ],
   "source": [
    "returns_dimension = Logistics[['Order_ID', 'Product_ID', 'Status', 'Return_Date', 'Amount', 'Reason_for_Return']]\n",
    "returns_dimension['Order_ID'] = returns_dimension['Order_ID'].astype(str) \n",
    "returns_dimension['Product_ID'] = returns_dimension['Product_ID'].astype(str) \n",
    "returns_dimension['Status'] = returns_dimension['Status'].astype(str) \n",
    "returns_dimension['Return_Date'] = returns_dimension['Return_Date'].astype(str) \n",
    "returns_dimension['Amount'] = returns_dimension['Amount'].astype(str) \n",
    "returns_dimension['Reason_for_Return'] = returns_dimension['Reason_for_Return'].astype(str) \n"
   ]
  },
  {
   "cell_type": "code",
   "execution_count": 23,
   "metadata": {},
   "outputs": [
    {
     "name": "stdout",
     "output_type": "stream",
     "text": [
      "New data inserted successfully\n"
     ]
    }
   ],
   "source": [
    "#Create Records for Returns Dimension Table\n",
    "def insert_records(recordList):\n",
    "    insert_record_query2 = \"\"\" INSERT INTO returns_dimension (Order_ID, Product_ID, Status, Return_Date, Amount, Reason_for_Return) VALUES (?, ?, ?, ?, ?, ?)\"\"\"\n",
    "    cursor.executemany(insert_record_query2, recordList)\n",
    "    conn.commit()\n",
    "    print('New data inserted successfully')\n",
    "    \n",
    "insert_list = returns_dimension.to_records(index=False)\n",
    "insert_records(insert_list)"
   ]
  },
  {
   "cell_type": "code",
   "execution_count": 24,
   "metadata": {},
   "outputs": [
    {
     "name": "stderr",
     "output_type": "stream",
     "text": [
      "/var/folders/hz/ykyh731j4wvc21cj6rsxtyy80000gn/T/ipykernel_21716/2688953766.py:2: SettingWithCopyWarning: \n",
      "A value is trying to be set on a copy of a slice from a DataFrame.\n",
      "Try using .loc[row_indexer,col_indexer] = value instead\n",
      "\n",
      "See the caveats in the documentation: https://pandas.pydata.org/pandas-docs/stable/user_guide/indexing.html#returning-a-view-versus-a-copy\n",
      "  order_dimension['Order_ID']= order_dimension['Order_ID'].astype(str)\n",
      "/var/folders/hz/ykyh731j4wvc21cj6rsxtyy80000gn/T/ipykernel_21716/2688953766.py:3: SettingWithCopyWarning: \n",
      "A value is trying to be set on a copy of a slice from a DataFrame.\n",
      "Try using .loc[row_indexer,col_indexer] = value instead\n",
      "\n",
      "See the caveats in the documentation: https://pandas.pydata.org/pandas-docs/stable/user_guide/indexing.html#returning-a-view-versus-a-copy\n",
      "  order_dimension['Product_ID']= order_dimension['Product_ID'].astype(str)\n",
      "/var/folders/hz/ykyh731j4wvc21cj6rsxtyy80000gn/T/ipykernel_21716/2688953766.py:4: SettingWithCopyWarning: \n",
      "A value is trying to be set on a copy of a slice from a DataFrame.\n",
      "Try using .loc[row_indexer,col_indexer] = value instead\n",
      "\n",
      "See the caveats in the documentation: https://pandas.pydata.org/pandas-docs/stable/user_guide/indexing.html#returning-a-view-versus-a-copy\n",
      "  order_dimension['Customer_ID']= order_dimension['Customer_ID'].astype(str)\n",
      "/var/folders/hz/ykyh731j4wvc21cj6rsxtyy80000gn/T/ipykernel_21716/2688953766.py:5: SettingWithCopyWarning: \n",
      "A value is trying to be set on a copy of a slice from a DataFrame.\n",
      "Try using .loc[row_indexer,col_indexer] = value instead\n",
      "\n",
      "See the caveats in the documentation: https://pandas.pydata.org/pandas-docs/stable/user_guide/indexing.html#returning-a-view-versus-a-copy\n",
      "  order_dimension['Order_place_Date']= order_dimension['Order_place_Date'].astype(str)\n",
      "/var/folders/hz/ykyh731j4wvc21cj6rsxtyy80000gn/T/ipykernel_21716/2688953766.py:6: SettingWithCopyWarning: \n",
      "A value is trying to be set on a copy of a slice from a DataFrame.\n",
      "Try using .loc[row_indexer,col_indexer] = value instead\n",
      "\n",
      "See the caveats in the documentation: https://pandas.pydata.org/pandas-docs/stable/user_guide/indexing.html#returning-a-view-versus-a-copy\n",
      "  order_dimension['Return_Status']= order_dimension['Return_Status'].astype(str)\n",
      "/var/folders/hz/ykyh731j4wvc21cj6rsxtyy80000gn/T/ipykernel_21716/2688953766.py:7: SettingWithCopyWarning: \n",
      "A value is trying to be set on a copy of a slice from a DataFrame.\n",
      "Try using .loc[row_indexer,col_indexer] = value instead\n",
      "\n",
      "See the caveats in the documentation: https://pandas.pydata.org/pandas-docs/stable/user_guide/indexing.html#returning-a-view-versus-a-copy\n",
      "  order_dimension['Delivery_Status']= order_dimension['Delivery_Status'].astype(str)\n"
     ]
    }
   ],
   "source": [
    "order_dimension = Logistics[[\"Order_ID\", 'Product_ID','Customer_ID', 'Order_place_Date', 'Return_Status', 'Delivery_Status']]\n",
    "order_dimension['Order_ID']= order_dimension['Order_ID'].astype(str) \n",
    "order_dimension['Product_ID']= order_dimension['Product_ID'].astype(str)\n",
    "order_dimension['Customer_ID']= order_dimension['Customer_ID'].astype(str)\n",
    "order_dimension['Order_place_Date']= order_dimension['Order_place_Date'].astype(str)\n",
    "order_dimension['Return_Status']= order_dimension['Return_Status'].astype(str)\n",
    "order_dimension['Delivery_Status']= order_dimension['Delivery_Status'].astype(str)"
   ]
  },
  {
   "cell_type": "code",
   "execution_count": 25,
   "metadata": {},
   "outputs": [
    {
     "name": "stdout",
     "output_type": "stream",
     "text": [
      "New data inserted successfully\n"
     ]
    }
   ],
   "source": [
    "#Create Records for Order Dimension Table\n",
    "def insert_records(recordList):\n",
    "    insert_record_query2 = \"\"\" INSERT INTO order_dimension (Order_ID, Product_ID, Customer_ID, Order_place_Date, Return_Status, Delivery_Status) VALUES (?, ?,?,?,?,?)\"\"\"\n",
    "    cursor.executemany(insert_record_query2, recordList)\n",
    "    conn.commit()\n",
    "    print('New data inserted successfully')\n",
    "\n",
    "insert_list = order_dimension.to_records(index=False)\n",
    "insert_records(insert_list)"
   ]
  },
  {
   "cell_type": "code",
   "execution_count": 26,
   "metadata": {},
   "outputs": [
    {
     "name": "stderr",
     "output_type": "stream",
     "text": [
      "/var/folders/hz/ykyh731j4wvc21cj6rsxtyy80000gn/T/ipykernel_21716/2246235975.py:2: SettingWithCopyWarning: \n",
      "A value is trying to be set on a copy of a slice from a DataFrame.\n",
      "Try using .loc[row_indexer,col_indexer] = value instead\n",
      "\n",
      "See the caveats in the documentation: https://pandas.pydata.org/pandas-docs/stable/user_guide/indexing.html#returning-a-view-versus-a-copy\n",
      "  inventory_dimension['Order_ID'] = inventory_dimension['Order_ID'].astype(str)\n",
      "/var/folders/hz/ykyh731j4wvc21cj6rsxtyy80000gn/T/ipykernel_21716/2246235975.py:3: SettingWithCopyWarning: \n",
      "A value is trying to be set on a copy of a slice from a DataFrame.\n",
      "Try using .loc[row_indexer,col_indexer] = value instead\n",
      "\n",
      "See the caveats in the documentation: https://pandas.pydata.org/pandas-docs/stable/user_guide/indexing.html#returning-a-view-versus-a-copy\n",
      "  inventory_dimension['Date_Received'] = inventory_dimension['Date_Received'].astype(str)\n",
      "/var/folders/hz/ykyh731j4wvc21cj6rsxtyy80000gn/T/ipykernel_21716/2246235975.py:4: SettingWithCopyWarning: \n",
      "A value is trying to be set on a copy of a slice from a DataFrame.\n",
      "Try using .loc[row_indexer,col_indexer] = value instead\n",
      "\n",
      "See the caveats in the documentation: https://pandas.pydata.org/pandas-docs/stable/user_guide/indexing.html#returning-a-view-versus-a-copy\n",
      "  inventory_dimension['Quantity'] = inventory_dimension['Quantity'].astype(str)\n",
      "/var/folders/hz/ykyh731j4wvc21cj6rsxtyy80000gn/T/ipykernel_21716/2246235975.py:5: SettingWithCopyWarning: \n",
      "A value is trying to be set on a copy of a slice from a DataFrame.\n",
      "Try using .loc[row_indexer,col_indexer] = value instead\n",
      "\n",
      "See the caveats in the documentation: https://pandas.pydata.org/pandas-docs/stable/user_guide/indexing.html#returning-a-view-versus-a-copy\n",
      "  inventory_dimension['Shipment_Date'] = inventory_dimension['Shipment_Date'].astype(str)\n",
      "/var/folders/hz/ykyh731j4wvc21cj6rsxtyy80000gn/T/ipykernel_21716/2246235975.py:6: SettingWithCopyWarning: \n",
      "A value is trying to be set on a copy of a slice from a DataFrame.\n",
      "Try using .loc[row_indexer,col_indexer] = value instead\n",
      "\n",
      "See the caveats in the documentation: https://pandas.pydata.org/pandas-docs/stable/user_guide/indexing.html#returning-a-view-versus-a-copy\n",
      "  inventory_dimension['Shipment_Quantity'] = inventory_dimension['Shipment_Quantity'].astype(str)\n",
      "/var/folders/hz/ykyh731j4wvc21cj6rsxtyy80000gn/T/ipykernel_21716/2246235975.py:7: SettingWithCopyWarning: \n",
      "A value is trying to be set on a copy of a slice from a DataFrame.\n",
      "Try using .loc[row_indexer,col_indexer] = value instead\n",
      "\n",
      "See the caveats in the documentation: https://pandas.pydata.org/pandas-docs/stable/user_guide/indexing.html#returning-a-view-versus-a-copy\n",
      "  inventory_dimension['Inspection_Date'] = inventory_dimension['Inspection_Date'].astype(str)\n",
      "/var/folders/hz/ykyh731j4wvc21cj6rsxtyy80000gn/T/ipykernel_21716/2246235975.py:8: SettingWithCopyWarning: \n",
      "A value is trying to be set on a copy of a slice from a DataFrame.\n",
      "Try using .loc[row_indexer,col_indexer] = value instead\n",
      "\n",
      "See the caveats in the documentation: https://pandas.pydata.org/pandas-docs/stable/user_guide/indexing.html#returning-a-view-versus-a-copy\n",
      "  inventory_dimension['Quantity_Inspect'] = inventory_dimension['Quantity_Inspect'].astype(str)\n"
     ]
    }
   ],
   "source": [
    "inventory_dimension = Logistics[['Order_ID', 'Date_Received', 'Quantity', 'Shipment_Date', 'Shipment_Quantity', 'Inspection_Date', 'Quantity_Inspect']]\n",
    "inventory_dimension['Order_ID'] = inventory_dimension['Order_ID'].astype(str) \n",
    "inventory_dimension['Date_Received'] = inventory_dimension['Date_Received'].astype(str) \n",
    "inventory_dimension['Quantity'] = inventory_dimension['Quantity'].astype(str) \n",
    "inventory_dimension['Shipment_Date'] = inventory_dimension['Shipment_Date'].astype(str) \n",
    "inventory_dimension['Shipment_Quantity'] = inventory_dimension['Shipment_Quantity'].astype(str) \n",
    "inventory_dimension['Inspection_Date'] = inventory_dimension['Inspection_Date'].astype(str) \n",
    "inventory_dimension['Quantity_Inspect'] = inventory_dimension['Quantity_Inspect'].astype(str) "
   ]
  },
  {
   "cell_type": "code",
   "execution_count": 27,
   "metadata": {},
   "outputs": [
    {
     "name": "stdout",
     "output_type": "stream",
     "text": [
      "New data inserted successfully\n"
     ]
    }
   ],
   "source": [
    "#Create Records for Inverntory Dimension Table\n",
    "def insert_records(recordList):\n",
    "    insert_record_query3 = \"\"\" INSERT INTO inventory_dimension (Order_ID, Date_Received, Quantity, Shipment_Date, Shipment_Quantity, Inspection_Date, Quantity_Inspected) VALUES (?,?,?,?,?,?,?)\"\"\"\n",
    "    cursor.executemany(insert_record_query3, recordList)\n",
    "    conn.commit()\n",
    "    print('New data inserted successfully')  \n",
    "\n",
    "insert_list = inventory_dimension.to_records(index=False)\n",
    "insert_records(insert_list)"
   ]
  },
  {
   "cell_type": "code",
   "execution_count": 28,
   "metadata": {},
   "outputs": [
    {
     "name": "stderr",
     "output_type": "stream",
     "text": [
      "/var/folders/hz/ykyh731j4wvc21cj6rsxtyy80000gn/T/ipykernel_21716/1525125341.py:2: SettingWithCopyWarning: \n",
      "A value is trying to be set on a copy of a slice from a DataFrame.\n",
      "Try using .loc[row_indexer,col_indexer] = value instead\n",
      "\n",
      "See the caveats in the documentation: https://pandas.pydata.org/pandas-docs/stable/user_guide/indexing.html#returning-a-view-versus-a-copy\n",
      "  shipping_dimension['Tracking_ID']=shipping_dimension['Tracking_ID'].astype(str)\n",
      "/var/folders/hz/ykyh731j4wvc21cj6rsxtyy80000gn/T/ipykernel_21716/1525125341.py:3: SettingWithCopyWarning: \n",
      "A value is trying to be set on a copy of a slice from a DataFrame.\n",
      "Try using .loc[row_indexer,col_indexer] = value instead\n",
      "\n",
      "See the caveats in the documentation: https://pandas.pydata.org/pandas-docs/stable/user_guide/indexing.html#returning-a-view-versus-a-copy\n",
      "  shipping_dimension['Shipping_ID']=shipping_dimension['Shipping_ID'].astype(str)\n",
      "/var/folders/hz/ykyh731j4wvc21cj6rsxtyy80000gn/T/ipykernel_21716/1525125341.py:4: SettingWithCopyWarning: \n",
      "A value is trying to be set on a copy of a slice from a DataFrame.\n",
      "Try using .loc[row_indexer,col_indexer] = value instead\n",
      "\n",
      "See the caveats in the documentation: https://pandas.pydata.org/pandas-docs/stable/user_guide/indexing.html#returning-a-view-versus-a-copy\n",
      "  shipping_dimension['Carrier_ID']=shipping_dimension['Carrier_ID'].astype(str)\n",
      "/var/folders/hz/ykyh731j4wvc21cj6rsxtyy80000gn/T/ipykernel_21716/1525125341.py:5: SettingWithCopyWarning: \n",
      "A value is trying to be set on a copy of a slice from a DataFrame.\n",
      "Try using .loc[row_indexer,col_indexer] = value instead\n",
      "\n",
      "See the caveats in the documentation: https://pandas.pydata.org/pandas-docs/stable/user_guide/indexing.html#returning-a-view-versus-a-copy\n",
      "  shipping_dimension['Damage_Status']=shipping_dimension['Damage_Status'].astype(str)\n",
      "/var/folders/hz/ykyh731j4wvc21cj6rsxtyy80000gn/T/ipykernel_21716/1525125341.py:6: SettingWithCopyWarning: \n",
      "A value is trying to be set on a copy of a slice from a DataFrame.\n",
      "Try using .loc[row_indexer,col_indexer] = value instead\n",
      "\n",
      "See the caveats in the documentation: https://pandas.pydata.org/pandas-docs/stable/user_guide/indexing.html#returning-a-view-versus-a-copy\n",
      "  shipping_dimension['Quantity_of_Spoilage']=shipping_dimension['Quantity_of_Spoilage'].astype(str)\n"
     ]
    }
   ],
   "source": [
    "shipping_dimension = Logistics[['Tracking_ID', 'Shipping_ID', 'Carrier_ID', 'Damage_Status', 'Quantity_of_Spoilage']]\n",
    "shipping_dimension['Tracking_ID']=shipping_dimension['Tracking_ID'].astype(str) \n",
    "shipping_dimension['Shipping_ID']=shipping_dimension['Shipping_ID'].astype(str) \n",
    "shipping_dimension['Carrier_ID']=shipping_dimension['Carrier_ID'].astype(str) \n",
    "shipping_dimension['Damage_Status']=shipping_dimension['Damage_Status'].astype(str) \n",
    "shipping_dimension['Quantity_of_Spoilage']=shipping_dimension['Quantity_of_Spoilage'].astype(str) \n"
   ]
  },
  {
   "cell_type": "code",
   "execution_count": 29,
   "metadata": {},
   "outputs": [
    {
     "name": "stdout",
     "output_type": "stream",
     "text": [
      "New data inserted successfully\n"
     ]
    }
   ],
   "source": [
    "#Create Records for Shipping Dimension Table\n",
    "def insert_records(recordList):\n",
    "    insert_record_query4 = \"\"\" INSERT INTO shipping_dimension (Tracking_ID, Shipping_ID, Carrier_ID, Damage_Status, Quantity_of_Spoilage) VALUES (?,?,?,?, ?)\"\"\"\n",
    "    cursor.executemany(insert_record_query4, recordList)\n",
    "    conn.commit()\n",
    "    print('New data inserted successfully')     \n",
    "    \n",
    "\n",
    "insert_list = shipping_dimension.to_records(index=False)\n",
    "insert_records(insert_list)"
   ]
  },
  {
   "cell_type": "code",
   "execution_count": 30,
   "metadata": {},
   "outputs": [
    {
     "name": "stderr",
     "output_type": "stream",
     "text": [
      "/var/folders/hz/ykyh731j4wvc21cj6rsxtyy80000gn/T/ipykernel_21716/1018048892.py:2: SettingWithCopyWarning: \n",
      "A value is trying to be set on a copy of a slice from a DataFrame.\n",
      "Try using .loc[row_indexer,col_indexer] = value instead\n",
      "\n",
      "See the caveats in the documentation: https://pandas.pydata.org/pandas-docs/stable/user_guide/indexing.html#returning-a-view-versus-a-copy\n",
      "  carrier_dimension['Carrier_ID'] = carrier_dimension['Carrier_ID'].astype(str)\n",
      "/var/folders/hz/ykyh731j4wvc21cj6rsxtyy80000gn/T/ipykernel_21716/1018048892.py:3: SettingWithCopyWarning: \n",
      "A value is trying to be set on a copy of a slice from a DataFrame.\n",
      "Try using .loc[row_indexer,col_indexer] = value instead\n",
      "\n",
      "See the caveats in the documentation: https://pandas.pydata.org/pandas-docs/stable/user_guide/indexing.html#returning-a-view-versus-a-copy\n",
      "  carrier_dimension['Carrier_Name'] = carrier_dimension['Carrier_Name'].astype(str)\n",
      "/var/folders/hz/ykyh731j4wvc21cj6rsxtyy80000gn/T/ipykernel_21716/1018048892.py:4: SettingWithCopyWarning: \n",
      "A value is trying to be set on a copy of a slice from a DataFrame.\n",
      "Try using .loc[row_indexer,col_indexer] = value instead\n",
      "\n",
      "See the caveats in the documentation: https://pandas.pydata.org/pandas-docs/stable/user_guide/indexing.html#returning-a-view-versus-a-copy\n",
      "  carrier_dimension['Carrier_Address'] = carrier_dimension['Carrier_Address'].astype(str)\n",
      "/var/folders/hz/ykyh731j4wvc21cj6rsxtyy80000gn/T/ipykernel_21716/1018048892.py:5: SettingWithCopyWarning: \n",
      "A value is trying to be set on a copy of a slice from a DataFrame.\n",
      "Try using .loc[row_indexer,col_indexer] = value instead\n",
      "\n",
      "See the caveats in the documentation: https://pandas.pydata.org/pandas-docs/stable/user_guide/indexing.html#returning-a-view-versus-a-copy\n",
      "  carrier_dimension['Carrier_City'] = carrier_dimension['Carrier_City'].astype(str)\n",
      "/var/folders/hz/ykyh731j4wvc21cj6rsxtyy80000gn/T/ipykernel_21716/1018048892.py:6: SettingWithCopyWarning: \n",
      "A value is trying to be set on a copy of a slice from a DataFrame.\n",
      "Try using .loc[row_indexer,col_indexer] = value instead\n",
      "\n",
      "See the caveats in the documentation: https://pandas.pydata.org/pandas-docs/stable/user_guide/indexing.html#returning-a-view-versus-a-copy\n",
      "  carrier_dimension['Carrier_Province'] = carrier_dimension['Carrier_Province'].astype(str)\n",
      "/var/folders/hz/ykyh731j4wvc21cj6rsxtyy80000gn/T/ipykernel_21716/1018048892.py:7: SettingWithCopyWarning: \n",
      "A value is trying to be set on a copy of a slice from a DataFrame.\n",
      "Try using .loc[row_indexer,col_indexer] = value instead\n",
      "\n",
      "See the caveats in the documentation: https://pandas.pydata.org/pandas-docs/stable/user_guide/indexing.html#returning-a-view-versus-a-copy\n",
      "  carrier_dimension['Carrier_Country'] = carrier_dimension['Carrier_Country'].astype(str)\n",
      "/var/folders/hz/ykyh731j4wvc21cj6rsxtyy80000gn/T/ipykernel_21716/1018048892.py:8: SettingWithCopyWarning: \n",
      "A value is trying to be set on a copy of a slice from a DataFrame.\n",
      "Try using .loc[row_indexer,col_indexer] = value instead\n",
      "\n",
      "See the caveats in the documentation: https://pandas.pydata.org/pandas-docs/stable/user_guide/indexing.html#returning-a-view-versus-a-copy\n",
      "  carrier_dimension['Post_Code'] = carrier_dimension['Post_Code'].astype(str)\n",
      "/var/folders/hz/ykyh731j4wvc21cj6rsxtyy80000gn/T/ipykernel_21716/1018048892.py:9: SettingWithCopyWarning: \n",
      "A value is trying to be set on a copy of a slice from a DataFrame.\n",
      "Try using .loc[row_indexer,col_indexer] = value instead\n",
      "\n",
      "See the caveats in the documentation: https://pandas.pydata.org/pandas-docs/stable/user_guide/indexing.html#returning-a-view-versus-a-copy\n",
      "  carrier_dimension['Phone_Number'] = carrier_dimension['Phone_Number'].astype(str)\n"
     ]
    }
   ],
   "source": [
    "carrier_dimension = Logistics[['Carrier_ID', 'Carrier_Name', 'Carrier_Address', 'Carrier_City', 'Carrier_Province', 'Carrier_Country', 'Post_Code', 'Phone_Number']]\n",
    "carrier_dimension['Carrier_ID'] = carrier_dimension['Carrier_ID'].astype(str)\n",
    "carrier_dimension['Carrier_Name'] = carrier_dimension['Carrier_Name'].astype(str)\n",
    "carrier_dimension['Carrier_Address'] = carrier_dimension['Carrier_Address'].astype(str)\n",
    "carrier_dimension['Carrier_City'] = carrier_dimension['Carrier_City'].astype(str)\n",
    "carrier_dimension['Carrier_Province'] = carrier_dimension['Carrier_Province'].astype(str)\n",
    "carrier_dimension['Carrier_Country'] = carrier_dimension['Carrier_Country'].astype(str)\n",
    "carrier_dimension['Post_Code'] = carrier_dimension['Post_Code'].astype(str)\n",
    "carrier_dimension['Phone_Number'] = carrier_dimension['Phone_Number'].astype(str)"
   ]
  },
  {
   "cell_type": "code",
   "execution_count": 31,
   "metadata": {},
   "outputs": [
    {
     "name": "stdout",
     "output_type": "stream",
     "text": [
      "New data inserted successfully\n"
     ]
    }
   ],
   "source": [
    "#Carrier Dimension Table\n",
    "def insert_records(recordList):\n",
    "    insert_record_query5 = \"\"\" INSERT INTO carrier_dimension (Carrier_ID, Carrier_Name, Carrier_Address, Carrier_City, Carrier_Province, Carrier_Country, Post_Code, Phone_Number) VALUES (?, ?,?,?,?,?,?,?)\"\"\"\n",
    "    cursor.executemany(insert_record_query5, recordList)\n",
    "    conn.commit()\n",
    "    print('New data inserted successfully')     \n",
    "\n",
    "insert_list = carrier_dimension.to_records(index=False)\n",
    "insert_records(insert_list)"
   ]
  },
  {
   "cell_type": "code",
   "execution_count": 32,
   "metadata": {},
   "outputs": [
    {
     "name": "stderr",
     "output_type": "stream",
     "text": [
      "/var/folders/hz/ykyh731j4wvc21cj6rsxtyy80000gn/T/ipykernel_21716/2483285860.py:2: SettingWithCopyWarning: \n",
      "A value is trying to be set on a copy of a slice from a DataFrame.\n",
      "Try using .loc[row_indexer,col_indexer] = value instead\n",
      "\n",
      "See the caveats in the documentation: https://pandas.pydata.org/pandas-docs/stable/user_guide/indexing.html#returning-a-view-versus-a-copy\n",
      "  warehouse_dimension['Warehouse_ID'] = warehouse_dimension['Warehouse_ID'].astype(str)\n",
      "/var/folders/hz/ykyh731j4wvc21cj6rsxtyy80000gn/T/ipykernel_21716/2483285860.py:3: SettingWithCopyWarning: \n",
      "A value is trying to be set on a copy of a slice from a DataFrame.\n",
      "Try using .loc[row_indexer,col_indexer] = value instead\n",
      "\n",
      "See the caveats in the documentation: https://pandas.pydata.org/pandas-docs/stable/user_guide/indexing.html#returning-a-view-versus-a-copy\n",
      "  warehouse_dimension['Warehouse_name'] = warehouse_dimension['Warehouse_name'].astype(str)\n",
      "/var/folders/hz/ykyh731j4wvc21cj6rsxtyy80000gn/T/ipykernel_21716/2483285860.py:4: SettingWithCopyWarning: \n",
      "A value is trying to be set on a copy of a slice from a DataFrame.\n",
      "Try using .loc[row_indexer,col_indexer] = value instead\n",
      "\n",
      "See the caveats in the documentation: https://pandas.pydata.org/pandas-docs/stable/user_guide/indexing.html#returning-a-view-versus-a-copy\n",
      "  warehouse_dimension['Manager'] = warehouse_dimension['Manager'].astype(str)\n",
      "/var/folders/hz/ykyh731j4wvc21cj6rsxtyy80000gn/T/ipykernel_21716/2483285860.py:5: SettingWithCopyWarning: \n",
      "A value is trying to be set on a copy of a slice from a DataFrame.\n",
      "Try using .loc[row_indexer,col_indexer] = value instead\n",
      "\n",
      "See the caveats in the documentation: https://pandas.pydata.org/pandas-docs/stable/user_guide/indexing.html#returning-a-view-versus-a-copy\n",
      "  warehouse_dimension['Size'] = warehouse_dimension['Size'].astype(str)\n",
      "/var/folders/hz/ykyh731j4wvc21cj6rsxtyy80000gn/T/ipykernel_21716/2483285860.py:6: SettingWithCopyWarning: \n",
      "A value is trying to be set on a copy of a slice from a DataFrame.\n",
      "Try using .loc[row_indexer,col_indexer] = value instead\n",
      "\n",
      "See the caveats in the documentation: https://pandas.pydata.org/pandas-docs/stable/user_guide/indexing.html#returning-a-view-versus-a-copy\n",
      "  warehouse_dimension['Type'] = warehouse_dimension['Type'].astype(str)\n",
      "/var/folders/hz/ykyh731j4wvc21cj6rsxtyy80000gn/T/ipykernel_21716/2483285860.py:7: SettingWithCopyWarning: \n",
      "A value is trying to be set on a copy of a slice from a DataFrame.\n",
      "Try using .loc[row_indexer,col_indexer] = value instead\n",
      "\n",
      "See the caveats in the documentation: https://pandas.pydata.org/pandas-docs/stable/user_guide/indexing.html#returning-a-view-versus-a-copy\n",
      "  warehouse_dimension['Region'] = warehouse_dimension['Region'].astype(str)\n",
      "/var/folders/hz/ykyh731j4wvc21cj6rsxtyy80000gn/T/ipykernel_21716/2483285860.py:8: SettingWithCopyWarning: \n",
      "A value is trying to be set on a copy of a slice from a DataFrame.\n",
      "Try using .loc[row_indexer,col_indexer] = value instead\n",
      "\n",
      "See the caveats in the documentation: https://pandas.pydata.org/pandas-docs/stable/user_guide/indexing.html#returning-a-view-versus-a-copy\n",
      "  warehouse_dimension['Address'] = warehouse_dimension['Address'].astype(str)\n",
      "/var/folders/hz/ykyh731j4wvc21cj6rsxtyy80000gn/T/ipykernel_21716/2483285860.py:9: SettingWithCopyWarning: \n",
      "A value is trying to be set on a copy of a slice from a DataFrame.\n",
      "Try using .loc[row_indexer,col_indexer] = value instead\n",
      "\n",
      "See the caveats in the documentation: https://pandas.pydata.org/pandas-docs/stable/user_guide/indexing.html#returning-a-view-versus-a-copy\n",
      "  warehouse_dimension['Row'] = warehouse_dimension['Row'].astype(str)\n",
      "/var/folders/hz/ykyh731j4wvc21cj6rsxtyy80000gn/T/ipykernel_21716/2483285860.py:10: SettingWithCopyWarning: \n",
      "A value is trying to be set on a copy of a slice from a DataFrame.\n",
      "Try using .loc[row_indexer,col_indexer] = value instead\n",
      "\n",
      "See the caveats in the documentation: https://pandas.pydata.org/pandas-docs/stable/user_guide/indexing.html#returning-a-view-versus-a-copy\n",
      "  warehouse_dimension['Shell_number'] = warehouse_dimension['Shell_number'].astype(str)\n"
     ]
    }
   ],
   "source": [
    "warehouse_dimension = Logistics[['Warehouse_ID', 'Warehouse_name', 'Manager', 'Size', 'Type', 'Region', 'Address', 'Row', 'Shell_number']]\n",
    "warehouse_dimension['Warehouse_ID'] = warehouse_dimension['Warehouse_ID'].astype(str)\n",
    "warehouse_dimension['Warehouse_name'] = warehouse_dimension['Warehouse_name'].astype(str)\n",
    "warehouse_dimension['Manager'] = warehouse_dimension['Manager'].astype(str)\n",
    "warehouse_dimension['Size'] = warehouse_dimension['Size'].astype(str)\n",
    "warehouse_dimension['Type'] = warehouse_dimension['Type'].astype(str)\n",
    "warehouse_dimension['Region'] = warehouse_dimension['Region'].astype(str)\n",
    "warehouse_dimension['Address'] = warehouse_dimension['Address'].astype(str)\n",
    "warehouse_dimension['Row'] = warehouse_dimension['Row'].astype(str)\n",
    "warehouse_dimension['Shell_number'] = warehouse_dimension['Shell_number'].astype(str)"
   ]
  },
  {
   "cell_type": "code",
   "execution_count": 33,
   "metadata": {},
   "outputs": [
    {
     "name": "stdout",
     "output_type": "stream",
     "text": [
      "New data inserted successfully\n"
     ]
    }
   ],
   "source": [
    "#Warehouse Dimension Table\n",
    "def insert_records(recordList):\n",
    "    insert_record_query6 = \"\"\" INSERT INTO warehouse_dimension (Warehouse_ID, Warehouse_name, Manager, Size, Type, Region, Address, Row, Shell_number) VALUES (?, ?,?,?,?,?,?,?,?)\"\"\"\n",
    "    cursor.executemany(insert_record_query6, recordList)\n",
    "    conn.commit()\n",
    "    print('New data inserted successfully')     \n",
    "    \n",
    "insert_list = warehouse_dimension.to_records(index=False)\n",
    "insert_records(insert_list)"
   ]
  },
  {
   "cell_type": "markdown",
   "metadata": {},
   "source": [
    "# Profitability Fact Table Pipeline"
   ]
  },
  {
   "cell_type": "code",
   "execution_count": 34,
   "metadata": {},
   "outputs": [],
   "source": [
    "#Create a connection object to run commands\n",
    "conn = sqlite3.connect('new_db.db')\n",
    "cursor = conn.cursor()\n",
    "conn.commit()"
   ]
  },
  {
   "cell_type": "code",
   "execution_count": 35,
   "metadata": {},
   "outputs": [],
   "source": [
    "#Create Date dimension table\n",
    "create_date_dimension = \"\"\" CREATE TABLE  Date_Dimension\n",
    "(Date_ID TEXT PRIMARY KEY,\n",
    "Fiscal_Year VARCHAR(20) NOT NULL,\n",
    "Fiscal_Quater VARCHAR(20) NOT NULL,\n",
    "Fiscal_Month VARCHAR(20) NOT NULL,\n",
    "Day VARCHAR(20) NOT NULL,\n",
    "Time VARCHAR(20) NOT NULL,\n",
    "Season TEXT NOT NULL)\"\"\"\n",
    "cursor.execute(create_date_dimension)\n",
    "conn.commit()"
   ]
  },
  {
   "cell_type": "code",
   "execution_count": 36,
   "metadata": {},
   "outputs": [
    {
     "name": "stderr",
     "output_type": "stream",
     "text": [
      "/var/folders/hz/ykyh731j4wvc21cj6rsxtyy80000gn/T/ipykernel_21716/2545110723.py:3: SettingWithCopyWarning: \n",
      "A value is trying to be set on a copy of a slice from a DataFrame.\n",
      "Try using .loc[row_indexer,col_indexer] = value instead\n",
      "\n",
      "See the caveats in the documentation: https://pandas.pydata.org/pandas-docs/stable/user_guide/indexing.html#returning-a-view-versus-a-copy\n",
      "  date_dimension['Date_ID'] = date_dimension['Date_ID'].astype(str)\n",
      "/var/folders/hz/ykyh731j4wvc21cj6rsxtyy80000gn/T/ipykernel_21716/2545110723.py:4: SettingWithCopyWarning: \n",
      "A value is trying to be set on a copy of a slice from a DataFrame.\n",
      "Try using .loc[row_indexer,col_indexer] = value instead\n",
      "\n",
      "See the caveats in the documentation: https://pandas.pydata.org/pandas-docs/stable/user_guide/indexing.html#returning-a-view-versus-a-copy\n",
      "  date_dimension['Fiscal_Year'] = date_dimension['Fiscal_Year'].astype(str)\n",
      "/var/folders/hz/ykyh731j4wvc21cj6rsxtyy80000gn/T/ipykernel_21716/2545110723.py:5: SettingWithCopyWarning: \n",
      "A value is trying to be set on a copy of a slice from a DataFrame.\n",
      "Try using .loc[row_indexer,col_indexer] = value instead\n",
      "\n",
      "See the caveats in the documentation: https://pandas.pydata.org/pandas-docs/stable/user_guide/indexing.html#returning-a-view-versus-a-copy\n",
      "  date_dimension['Fiscal_Quater'] = date_dimension['Fiscal_Quater'].astype(str)\n",
      "/var/folders/hz/ykyh731j4wvc21cj6rsxtyy80000gn/T/ipykernel_21716/2545110723.py:6: SettingWithCopyWarning: \n",
      "A value is trying to be set on a copy of a slice from a DataFrame.\n",
      "Try using .loc[row_indexer,col_indexer] = value instead\n",
      "\n",
      "See the caveats in the documentation: https://pandas.pydata.org/pandas-docs/stable/user_guide/indexing.html#returning-a-view-versus-a-copy\n",
      "  date_dimension['Fiscal_Month'] = date_dimension['Fiscal_Month'].astype(str)\n"
     ]
    }
   ],
   "source": [
    "#Change data types \n",
    "date_dimension = Profitability[[\"Date_ID\",\"Fiscal_Year\",\"Fiscal_Quater\",\"Fiscal_Month\",\"Day\",\"Time\",\"Season\"]]\n",
    "date_dimension['Date_ID'] = date_dimension['Date_ID'].astype(str) \n",
    "date_dimension['Fiscal_Year'] = date_dimension['Fiscal_Year'].astype(str) \n",
    "date_dimension['Fiscal_Quater'] = date_dimension['Fiscal_Quater'].astype(str) \n",
    "date_dimension['Fiscal_Month'] = date_dimension['Fiscal_Month'].astype(str)"
   ]
  },
  {
   "cell_type": "code",
   "execution_count": 37,
   "metadata": {},
   "outputs": [],
   "source": [
    "#Insert records within Date dimension\n",
    "\n",
    "def insert_records(recordList):\n",
    "    insert_record_query = \"\"\" INSERT INTO Date_Dimension(Date_ID,Fiscal_Year,Fiscal_Quater, Fiscal_Month,Day, Time, Season) VALUES (?, ?,?,?,?,?,?)\"\"\"\n",
    "    cursor.executemany(insert_record_query, recordList)\n",
    "    conn.commit()\n",
    "    print('New data inserted successfully')"
   ]
  },
  {
   "cell_type": "code",
   "execution_count": 38,
   "metadata": {},
   "outputs": [
    {
     "name": "stdout",
     "output_type": "stream",
     "text": [
      "New data inserted successfully\n"
     ]
    }
   ],
   "source": [
    "#Insert records in a list\n",
    "insert_list = date_dimension.to_records(index=False)\n",
    "insert_records(insert_list)"
   ]
  },
  {
   "cell_type": "code",
   "execution_count": 39,
   "metadata": {},
   "outputs": [],
   "source": [
    "#Create Currency dimension\n",
    "create_currency_dimension = \"\"\" CREATE TABLE Currency_Dimension\n",
    "(Currency_ID TEXT PRIMARY KEY,\n",
    "Currency_Name TEXT NOT NULL,\n",
    "Coversion_rate NUMERIC NOT NULL,\n",
    "Country TEXT NOT NULL)\"\"\"\n",
    "cursor.execute(create_currency_dimension)\n",
    "conn.commit()"
   ]
  },
  {
   "cell_type": "code",
   "execution_count": 40,
   "metadata": {},
   "outputs": [
    {
     "name": "stderr",
     "output_type": "stream",
     "text": [
      "/var/folders/hz/ykyh731j4wvc21cj6rsxtyy80000gn/T/ipykernel_21716/4203642690.py:3: SettingWithCopyWarning: \n",
      "A value is trying to be set on a copy of a slice from a DataFrame.\n",
      "Try using .loc[row_indexer,col_indexer] = value instead\n",
      "\n",
      "See the caveats in the documentation: https://pandas.pydata.org/pandas-docs/stable/user_guide/indexing.html#returning-a-view-versus-a-copy\n",
      "  currency_dimension['Currency_ID'] = currency_dimension['Currency_ID'].astype(str)\n"
     ]
    }
   ],
   "source": [
    "#Insert values within dimension\n",
    "currency_dimension = Profitability[['Currency_ID','Coversion_rate','Country','Currency_Name']]\n",
    "currency_dimension['Currency_ID'] = currency_dimension['Currency_ID'].astype(str)"
   ]
  },
  {
   "cell_type": "code",
   "execution_count": 41,
   "metadata": {},
   "outputs": [],
   "source": [
    "#Insert records within table\n",
    "def insert_records(recordList):\n",
    "    insert_record_query2 = \"\"\" INSERT INTO currency_dimension (Currency_ID,Coversion_rate,Country,Currency_Name) VALUES (?, ?,?,?)\"\"\"\n",
    "    cursor.executemany(insert_record_query2, recordList)\n",
    "    conn.commit()\n",
    "    print('New data inserted successfully')"
   ]
  },
  {
   "cell_type": "code",
   "execution_count": 42,
   "metadata": {},
   "outputs": [
    {
     "name": "stdout",
     "output_type": "stream",
     "text": [
      "New data inserted successfully\n"
     ]
    }
   ],
   "source": [
    "#Insert records into a list\n",
    "insert_list = currency_dimension.to_records(index=False)\n",
    "insert_records(insert_list) "
   ]
  },
  {
   "cell_type": "code",
   "execution_count": 43,
   "metadata": {},
   "outputs": [],
   "source": [
    "#Create Customer Engagement table connected to profitability Fact Table\n",
    "create_customer_engagement_dimension = \"\"\" CREATE TABLE  Customer_Engagement_Dimension\n",
    "(Customer_ID TEXT PRIMARY KEY,\n",
    "Most_frequent_purchased_product TEXT NOT NULL,\n",
    "Most_frequent_purchased_category TEXT NOT NULL,\n",
    "Coupon_used TEXT NOT NULL,\n",
    "Customer_purchasing_power TEXT NOT NULL,\n",
    "Active_Status TEXT NOT NULL,\n",
    "Number_of_Clicks Varchar(20) NOT NULL,\n",
    "Coversion_rate Varchar(20) NOT NULL,\n",
    "Average_Day_Between_Purchase Varchar(20) NOT NULL)\"\"\"\n",
    "cursor.execute(create_customer_engagement_dimension)\n",
    "conn.commit()"
   ]
  },
  {
   "cell_type": "code",
   "execution_count": 44,
   "metadata": {},
   "outputs": [],
   "source": [
    "#Create Customer Engagement dimensions \n",
    "customer_engagement_dimension = Profitability[['Customer_ID','Most_frequent_purchased_product','Most_frequent_purchased_category','Coupon_used','Customer_purchasing_power','Active_Status','Number_of_Clicks','Coversion_rate','Average_Day_Between_Purchase']]"
   ]
  },
  {
   "cell_type": "code",
   "execution_count": 45,
   "metadata": {},
   "outputs": [
    {
     "name": "stderr",
     "output_type": "stream",
     "text": [
      "/var/folders/hz/ykyh731j4wvc21cj6rsxtyy80000gn/T/ipykernel_21716/1598328307.py:2: SettingWithCopyWarning: \n",
      "A value is trying to be set on a copy of a slice from a DataFrame.\n",
      "Try using .loc[row_indexer,col_indexer] = value instead\n",
      "\n",
      "See the caveats in the documentation: https://pandas.pydata.org/pandas-docs/stable/user_guide/indexing.html#returning-a-view-versus-a-copy\n",
      "  customer_engagement_dimension['Customer_ID'] = customer_engagement_dimension['Customer_ID'].astype(str)\n",
      "/var/folders/hz/ykyh731j4wvc21cj6rsxtyy80000gn/T/ipykernel_21716/1598328307.py:3: SettingWithCopyWarning: \n",
      "A value is trying to be set on a copy of a slice from a DataFrame.\n",
      "Try using .loc[row_indexer,col_indexer] = value instead\n",
      "\n",
      "See the caveats in the documentation: https://pandas.pydata.org/pandas-docs/stable/user_guide/indexing.html#returning-a-view-versus-a-copy\n",
      "  customer_engagement_dimension['Active_Status'] = customer_engagement_dimension['Active_Status'].astype(str)\n",
      "/var/folders/hz/ykyh731j4wvc21cj6rsxtyy80000gn/T/ipykernel_21716/1598328307.py:4: SettingWithCopyWarning: \n",
      "A value is trying to be set on a copy of a slice from a DataFrame.\n",
      "Try using .loc[row_indexer,col_indexer] = value instead\n",
      "\n",
      "See the caveats in the documentation: https://pandas.pydata.org/pandas-docs/stable/user_guide/indexing.html#returning-a-view-versus-a-copy\n",
      "  customer_engagement_dimension['Number_of_Clicks'] = customer_engagement_dimension['Number_of_Clicks'].astype(str)\n",
      "/var/folders/hz/ykyh731j4wvc21cj6rsxtyy80000gn/T/ipykernel_21716/1598328307.py:5: SettingWithCopyWarning: \n",
      "A value is trying to be set on a copy of a slice from a DataFrame.\n",
      "Try using .loc[row_indexer,col_indexer] = value instead\n",
      "\n",
      "See the caveats in the documentation: https://pandas.pydata.org/pandas-docs/stable/user_guide/indexing.html#returning-a-view-versus-a-copy\n",
      "  customer_engagement_dimension['Average_Day_Between_Purchase'] = customer_engagement_dimension['Average_Day_Between_Purchase'].astype(str)\n"
     ]
    }
   ],
   "source": [
    "#Add dimensions\n",
    "customer_engagement_dimension['Customer_ID'] = customer_engagement_dimension['Customer_ID'].astype(str)\n",
    "customer_engagement_dimension['Active_Status'] = customer_engagement_dimension['Active_Status'].astype(str)\n",
    "customer_engagement_dimension['Number_of_Clicks'] = customer_engagement_dimension['Number_of_Clicks'].astype(str)\n",
    "customer_engagement_dimension['Average_Day_Between_Purchase'] = customer_engagement_dimension['Average_Day_Between_Purchase'].astype(str)"
   ]
  },
  {
   "cell_type": "code",
   "execution_count": 46,
   "metadata": {},
   "outputs": [],
   "source": [
    "#customer_engagement_dimension \n",
    "def insert_records(recordList):\n",
    "    insert_record_query3 = \"\"\" INSERT INTO customer_engagement_dimension (Customer_ID,Most_frequent_purchased_product,Most_frequent_purchased_category,Coupon_used,Customer_purchasing_power,Active_Status,Number_of_Clicks,Coversion_rate,Average_Day_Between_Purchase) VALUES (?, ?,?,?,?,?,?,?,?)\"\"\"\n",
    "    cursor.executemany(insert_record_query3, recordList)\n",
    "    conn.commit()\n",
    "    print('New data inserted successfully')"
   ]
  },
  {
   "cell_type": "code",
   "execution_count": 47,
   "metadata": {},
   "outputs": [
    {
     "name": "stdout",
     "output_type": "stream",
     "text": [
      "New data inserted successfully\n"
     ]
    }
   ],
   "source": [
    "#Insert dimensions in a list\n",
    "insert_list = customer_engagement_dimension.to_records(index=False)\n",
    "insert_records(insert_list) "
   ]
  },
  {
   "cell_type": "code",
   "execution_count": 48,
   "metadata": {},
   "outputs": [],
   "source": [
    "#Create Shopping Cart dimension\n",
    "create_shopping_cart_dimension = \"\"\" CREATE TABLE  shopping_cart_dimension \n",
    "(Customer_ID TEXT PRIMARY KEY,\n",
    "Number_of_items_in_cart NUMERIC NOT NULL,\n",
    "Product_ID_in_cart TEXT NOT NULL,\n",
    "Number_of_item_checked_out NUMERIC NOT NULL)\"\"\"\n",
    "cursor.execute(create_shopping_cart_dimension)\n",
    "conn.commit()"
   ]
  },
  {
   "cell_type": "code",
   "execution_count": 49,
   "metadata": {},
   "outputs": [],
   "source": [
    "#Add dimensions\n",
    "shopping_cart_dimension = Profitability[['Customer_ID','Number_of_items_in_cart','Product_ID_in_cart','Number_of_item_checked_out']]"
   ]
  },
  {
   "cell_type": "code",
   "execution_count": 50,
   "metadata": {},
   "outputs": [
    {
     "name": "stderr",
     "output_type": "stream",
     "text": [
      "/var/folders/hz/ykyh731j4wvc21cj6rsxtyy80000gn/T/ipykernel_21716/4145377805.py:2: SettingWithCopyWarning: \n",
      "A value is trying to be set on a copy of a slice from a DataFrame.\n",
      "Try using .loc[row_indexer,col_indexer] = value instead\n",
      "\n",
      "See the caveats in the documentation: https://pandas.pydata.org/pandas-docs/stable/user_guide/indexing.html#returning-a-view-versus-a-copy\n",
      "  shopping_cart_dimension['Customer_ID'] = shopping_cart_dimension['Customer_ID'].astype(str)\n",
      "/var/folders/hz/ykyh731j4wvc21cj6rsxtyy80000gn/T/ipykernel_21716/4145377805.py:3: SettingWithCopyWarning: \n",
      "A value is trying to be set on a copy of a slice from a DataFrame.\n",
      "Try using .loc[row_indexer,col_indexer] = value instead\n",
      "\n",
      "See the caveats in the documentation: https://pandas.pydata.org/pandas-docs/stable/user_guide/indexing.html#returning-a-view-versus-a-copy\n",
      "  shopping_cart_dimension['Number_of_items_in_cart'] = shopping_cart_dimension['Number_of_items_in_cart'].astype(str)\n",
      "/var/folders/hz/ykyh731j4wvc21cj6rsxtyy80000gn/T/ipykernel_21716/4145377805.py:4: SettingWithCopyWarning: \n",
      "A value is trying to be set on a copy of a slice from a DataFrame.\n",
      "Try using .loc[row_indexer,col_indexer] = value instead\n",
      "\n",
      "See the caveats in the documentation: https://pandas.pydata.org/pandas-docs/stable/user_guide/indexing.html#returning-a-view-versus-a-copy\n",
      "  shopping_cart_dimension['Product_ID_in_cart'] = shopping_cart_dimension['Product_ID_in_cart'].astype(str)\n",
      "/var/folders/hz/ykyh731j4wvc21cj6rsxtyy80000gn/T/ipykernel_21716/4145377805.py:5: SettingWithCopyWarning: \n",
      "A value is trying to be set on a copy of a slice from a DataFrame.\n",
      "Try using .loc[row_indexer,col_indexer] = value instead\n",
      "\n",
      "See the caveats in the documentation: https://pandas.pydata.org/pandas-docs/stable/user_guide/indexing.html#returning-a-view-versus-a-copy\n",
      "  shopping_cart_dimension['Number_of_item_checked_out'] = shopping_cart_dimension['Number_of_item_checked_out'].astype(str)\n"
     ]
    }
   ],
   "source": [
    "#Change data types\n",
    "shopping_cart_dimension['Customer_ID'] = shopping_cart_dimension['Customer_ID'].astype(str)\n",
    "shopping_cart_dimension['Number_of_items_in_cart'] = shopping_cart_dimension['Number_of_items_in_cart'].astype(str)\n",
    "shopping_cart_dimension['Product_ID_in_cart'] = shopping_cart_dimension['Product_ID_in_cart'].astype(str)\n",
    "shopping_cart_dimension['Number_of_item_checked_out'] = shopping_cart_dimension['Number_of_item_checked_out'].astype(str)"
   ]
  },
  {
   "cell_type": "code",
   "execution_count": 51,
   "metadata": {},
   "outputs": [],
   "source": [
    "#Carrier Shopping Cart dimension\n",
    "def insert_records(recordList):\n",
    "    insert_record_query5 = \"\"\" INSERT INTO shopping_cart_dimension (Customer_ID,Number_of_items_in_cart,Product_ID_in_cart,Number_of_item_checked_out) VALUES (?, ?,?,?)\"\"\"\n",
    "    cursor.executemany(insert_record_query5, recordList)\n",
    "    conn.commit()\n",
    "    print('New data inserted successfully') "
   ]
  },
  {
   "cell_type": "code",
   "execution_count": 52,
   "metadata": {},
   "outputs": [
    {
     "name": "stdout",
     "output_type": "stream",
     "text": [
      "New data inserted successfully\n"
     ]
    }
   ],
   "source": [
    "#Add dimensions to a list\n",
    "insert_list = shopping_cart_dimension.to_records(index=False)\n",
    "insert_records(insert_list) "
   ]
  },
  {
   "cell_type": "code",
   "execution_count": 53,
   "metadata": {},
   "outputs": [],
   "source": [
    "#Create Discount dimension\n",
    "create_discount_dimension= \"\"\" CREATE TABLE  discount_dimension\n",
    "(Discount_ID TEXT PRIMARY KEY,\n",
    "Discount_Name TEXT NOT NULL,\n",
    "Discount_Type TEXT NOT NULL,\n",
    "Price_treatment_type TEXT NOT NULL,\n",
    "Coupon_code TEXT NOT NULL,\n",
    "Discount_Cost Numberic NOT NULL,\n",
    "Discount_begin_date Varchar(20) NOT NULL,\n",
    "Discount_end_date Varchar(20) NOT NULL)\"\"\"\n",
    "\n",
    "cursor.execute(create_discount_dimension)\n",
    "conn.commit()"
   ]
  },
  {
   "cell_type": "code",
   "execution_count": 54,
   "metadata": {},
   "outputs": [],
   "source": [
    "#Add dimensions\n",
    "discount_dimension = Profitability[['Discount_ID','Discount_Name','Discount_Type','Price_treatment_type','Coupon_code','Discount_Cost','Discount_begin_date','Discount_end_date']]"
   ]
  },
  {
   "cell_type": "code",
   "execution_count": 55,
   "metadata": {},
   "outputs": [
    {
     "name": "stderr",
     "output_type": "stream",
     "text": [
      "/var/folders/hz/ykyh731j4wvc21cj6rsxtyy80000gn/T/ipykernel_21716/3220361566.py:2: SettingWithCopyWarning: \n",
      "A value is trying to be set on a copy of a slice from a DataFrame.\n",
      "Try using .loc[row_indexer,col_indexer] = value instead\n",
      "\n",
      "See the caveats in the documentation: https://pandas.pydata.org/pandas-docs/stable/user_guide/indexing.html#returning-a-view-versus-a-copy\n",
      "  discount_dimension['Discount_ID'] = discount_dimension['Discount_ID'].astype(str)\n",
      "/var/folders/hz/ykyh731j4wvc21cj6rsxtyy80000gn/T/ipykernel_21716/3220361566.py:3: SettingWithCopyWarning: \n",
      "A value is trying to be set on a copy of a slice from a DataFrame.\n",
      "Try using .loc[row_indexer,col_indexer] = value instead\n",
      "\n",
      "See the caveats in the documentation: https://pandas.pydata.org/pandas-docs/stable/user_guide/indexing.html#returning-a-view-versus-a-copy\n",
      "  discount_dimension['Discount_Cost'] = discount_dimension['Discount_Cost'].astype(str)\n",
      "/var/folders/hz/ykyh731j4wvc21cj6rsxtyy80000gn/T/ipykernel_21716/3220361566.py:4: SettingWithCopyWarning: \n",
      "A value is trying to be set on a copy of a slice from a DataFrame.\n",
      "Try using .loc[row_indexer,col_indexer] = value instead\n",
      "\n",
      "See the caveats in the documentation: https://pandas.pydata.org/pandas-docs/stable/user_guide/indexing.html#returning-a-view-versus-a-copy\n",
      "  discount_dimension['Discount_begin_date'] = discount_dimension['Discount_begin_date'].astype(str)\n",
      "/var/folders/hz/ykyh731j4wvc21cj6rsxtyy80000gn/T/ipykernel_21716/3220361566.py:5: SettingWithCopyWarning: \n",
      "A value is trying to be set on a copy of a slice from a DataFrame.\n",
      "Try using .loc[row_indexer,col_indexer] = value instead\n",
      "\n",
      "See the caveats in the documentation: https://pandas.pydata.org/pandas-docs/stable/user_guide/indexing.html#returning-a-view-versus-a-copy\n",
      "  discount_dimension['Discount_end_date'] = discount_dimension['Discount_end_date'].astype(str)\n"
     ]
    }
   ],
   "source": [
    "#Change data types\n",
    "discount_dimension['Discount_ID'] = discount_dimension['Discount_ID'].astype(str)\n",
    "discount_dimension['Discount_Cost'] = discount_dimension['Discount_Cost'].astype(str)\n",
    "discount_dimension['Discount_begin_date'] = discount_dimension['Discount_begin_date'].astype(str)\n",
    "discount_dimension['Discount_end_date'] = discount_dimension['Discount_end_date'].astype(str)"
   ]
  },
  {
   "cell_type": "code",
   "execution_count": 56,
   "metadata": {},
   "outputs": [],
   "source": [
    "#Insert records\n",
    "def insert_records(recordList):\n",
    "    insert_record_query6 = \"\"\" INSERT INTO discount_dimension (Discount_ID,Discount_Name,Discount_Type,Price_treatment_type,Coupon_code,Discount_Cost,Discount_begin_date,Discount_end_date) VALUES (?, ?,?,?,?,?,?,?)\"\"\"\n",
    "    cursor.executemany(insert_record_query6, recordList)\n",
    "    conn.commit()\n",
    "    print('New data inserted successfully') "
   ]
  },
  {
   "cell_type": "code",
   "execution_count": 57,
   "metadata": {},
   "outputs": [
    {
     "name": "stdout",
     "output_type": "stream",
     "text": [
      "New data inserted successfully\n"
     ]
    }
   ],
   "source": [
    "#Add dimensions in a list\n",
    "insert_list = discount_dimension.to_records(index=False)\n",
    "insert_records(insert_list) "
   ]
  },
  {
   "cell_type": "code",
   "execution_count": 58,
   "metadata": {},
   "outputs": [],
   "source": [
    "#Create Advertising dimension\n",
    "create_advertising_dimension = \"\"\" CREATE TABLE advertising_dimension\n",
    "(Advertising_ID TEXT PRIMARY KEY,\n",
    "Ad_Name TEXT NOT NULL,\n",
    "Ad_Type TEXT NOT NULL,\n",
    "Advertisement_channel TEXT NOT NULL,\n",
    "Ad_cost VARCHAR(20) NOT NULL,\n",
    "Advertising_begin_date VARCHAR(20) NOT NULL,\n",
    "Advertising_end_date VARCHAR(20) NOT NULL)\"\"\"\n",
    "\n",
    "cursor.execute(create_advertising_dimension)\n",
    "conn.commit()"
   ]
  },
  {
   "cell_type": "code",
   "execution_count": 59,
   "metadata": {},
   "outputs": [],
   "source": [
    "#Add dimensions\n",
    "advertising_dimension = Profitability[['Advertising_ID','Ad_Name','Ad_Type','Advertisement_channel','Ad_cost','Advertising_begin_date','Advertising_end_date']]"
   ]
  },
  {
   "cell_type": "code",
   "execution_count": 60,
   "metadata": {},
   "outputs": [
    {
     "name": "stderr",
     "output_type": "stream",
     "text": [
      "/var/folders/hz/ykyh731j4wvc21cj6rsxtyy80000gn/T/ipykernel_21716/697535991.py:2: SettingWithCopyWarning: \n",
      "A value is trying to be set on a copy of a slice from a DataFrame.\n",
      "Try using .loc[row_indexer,col_indexer] = value instead\n",
      "\n",
      "See the caveats in the documentation: https://pandas.pydata.org/pandas-docs/stable/user_guide/indexing.html#returning-a-view-versus-a-copy\n",
      "  advertising_dimension['Advertising_ID'] = advertising_dimension['Advertising_ID'].astype(str)\n",
      "/var/folders/hz/ykyh731j4wvc21cj6rsxtyy80000gn/T/ipykernel_21716/697535991.py:3: SettingWithCopyWarning: \n",
      "A value is trying to be set on a copy of a slice from a DataFrame.\n",
      "Try using .loc[row_indexer,col_indexer] = value instead\n",
      "\n",
      "See the caveats in the documentation: https://pandas.pydata.org/pandas-docs/stable/user_guide/indexing.html#returning-a-view-versus-a-copy\n",
      "  advertising_dimension['Ad_cost'] = advertising_dimension['Ad_cost'].astype(str)\n",
      "/var/folders/hz/ykyh731j4wvc21cj6rsxtyy80000gn/T/ipykernel_21716/697535991.py:4: SettingWithCopyWarning: \n",
      "A value is trying to be set on a copy of a slice from a DataFrame.\n",
      "Try using .loc[row_indexer,col_indexer] = value instead\n",
      "\n",
      "See the caveats in the documentation: https://pandas.pydata.org/pandas-docs/stable/user_guide/indexing.html#returning-a-view-versus-a-copy\n",
      "  advertising_dimension['Advertising_begin_date'] = advertising_dimension['Advertising_begin_date'].astype(str)\n",
      "/var/folders/hz/ykyh731j4wvc21cj6rsxtyy80000gn/T/ipykernel_21716/697535991.py:5: SettingWithCopyWarning: \n",
      "A value is trying to be set on a copy of a slice from a DataFrame.\n",
      "Try using .loc[row_indexer,col_indexer] = value instead\n",
      "\n",
      "See the caveats in the documentation: https://pandas.pydata.org/pandas-docs/stable/user_guide/indexing.html#returning-a-view-versus-a-copy\n",
      "  advertising_dimension['Advertising_end_date'] = advertising_dimension['Advertising_end_date'].astype(str)\n"
     ]
    }
   ],
   "source": [
    "#Change data types\n",
    "advertising_dimension['Advertising_ID'] = advertising_dimension['Advertising_ID'].astype(str) \n",
    "advertising_dimension['Ad_cost'] = advertising_dimension['Ad_cost'].astype(str) \n",
    "advertising_dimension['Advertising_begin_date'] = advertising_dimension['Advertising_begin_date'].astype(str) \n",
    "advertising_dimension['Advertising_end_date'] = advertising_dimension['Advertising_end_date'].astype(str)"
   ]
  },
  {
   "cell_type": "code",
   "execution_count": 61,
   "metadata": {},
   "outputs": [],
   "source": [
    "#Insert record values\n",
    "def insert_records(recordList):\n",
    "    insert_record_query7 = \"\"\" INSERT INTO advertising_dimension (Advertising_ID,Ad_Name,Ad_Type,Advertisement_channel,Ad_cost,Advertising_begin_date,Advertising_end_date) VALUES (?, ?,?,?,?,?,?)\"\"\"\n",
    "    cursor.executemany(insert_record_query7, recordList)\n",
    "    conn.commit()\n",
    "    print('New data inserted successfully')"
   ]
  },
  {
   "cell_type": "code",
   "execution_count": 62,
   "metadata": {},
   "outputs": [
    {
     "name": "stdout",
     "output_type": "stream",
     "text": [
      "New data inserted successfully\n"
     ]
    }
   ],
   "source": [
    "#Add records\n",
    "insert_list = advertising_dimension.to_records(index=False)\n",
    "insert_records(insert_list) "
   ]
  },
  {
   "cell_type": "code",
   "execution_count": 63,
   "metadata": {},
   "outputs": [],
   "source": [
    "#Create Transaction dimension\n",
    "create_transaction_dimension = \"\"\" CREATE TABLE transaction_dimension\n",
    "(Transaction_ID TEXT PRIMARY KEY,\n",
    "Order_ID TEXT NOT NULL,\n",
    "POS TEXT NOT NULL,\n",
    "Payment_Type TEXT NOT NULL,\n",
    "Customer_ID TEXT NOT NULL,\n",
    "Currency_ID TEXT NOT NULL)\"\"\"\n",
    "cursor.execute(create_transaction_dimension)\n",
    "conn.commit()"
   ]
  },
  {
   "cell_type": "code",
   "execution_count": 64,
   "metadata": {},
   "outputs": [],
   "source": [
    "#Add dimensions\n",
    "transaction_dimension = Profitability[['Transaction_ID','Order_ID','POS','Payment_Type','Customer_ID', 'Currency_ID']]"
   ]
  },
  {
   "cell_type": "code",
   "execution_count": 65,
   "metadata": {},
   "outputs": [
    {
     "name": "stderr",
     "output_type": "stream",
     "text": [
      "/var/folders/hz/ykyh731j4wvc21cj6rsxtyy80000gn/T/ipykernel_21716/20130665.py:2: SettingWithCopyWarning: \n",
      "A value is trying to be set on a copy of a slice from a DataFrame.\n",
      "Try using .loc[row_indexer,col_indexer] = value instead\n",
      "\n",
      "See the caveats in the documentation: https://pandas.pydata.org/pandas-docs/stable/user_guide/indexing.html#returning-a-view-versus-a-copy\n",
      "  transaction_dimension['Transaction_ID'] = transaction_dimension['Transaction_ID'].astype(str)\n",
      "/var/folders/hz/ykyh731j4wvc21cj6rsxtyy80000gn/T/ipykernel_21716/20130665.py:3: SettingWithCopyWarning: \n",
      "A value is trying to be set on a copy of a slice from a DataFrame.\n",
      "Try using .loc[row_indexer,col_indexer] = value instead\n",
      "\n",
      "See the caveats in the documentation: https://pandas.pydata.org/pandas-docs/stable/user_guide/indexing.html#returning-a-view-versus-a-copy\n",
      "  transaction_dimension['Currency_ID'] = transaction_dimension['Currency_ID'].astype(str)\n"
     ]
    }
   ],
   "source": [
    "#Change data types\n",
    "transaction_dimension['Transaction_ID'] = transaction_dimension['Transaction_ID'].astype(str)\n",
    "transaction_dimension['Currency_ID'] = transaction_dimension['Currency_ID'].astype(str)"
   ]
  },
  {
   "cell_type": "code",
   "execution_count": 66,
   "metadata": {},
   "outputs": [],
   "source": [
    "#Insert records\n",
    "def insert_records(recordList):\n",
    "    insert_record_query4 = \"\"\" INSERT INTO transaction_dimension (Transaction_ID,Order_ID,POS,Payment_Type,Customer_ID, Currency_ID) VALUES (?, ?,?,?,?,?)\"\"\"\n",
    "    cursor.executemany(insert_record_query4, recordList)\n",
    "    conn.commit()\n",
    "    print('New data inserted successfully') "
   ]
  },
  {
   "cell_type": "code",
   "execution_count": 67,
   "metadata": {},
   "outputs": [
    {
     "name": "stdout",
     "output_type": "stream",
     "text": [
      "New data inserted successfully\n"
     ]
    }
   ],
   "source": [
    "#Add data values\n",
    "insert_list = transaction_dimension.to_records(index=False)\n",
    "insert_records(insert_list) "
   ]
  },
  {
   "cell_type": "code",
   "execution_count": 68,
   "metadata": {},
   "outputs": [],
   "source": [
    "#Insert Customer Information dimension\n",
    "create_customer_information_dimension = \"\"\" CREATE TABLE  customer_information_dimension\n",
    "(Customer_ID TEXT PRIMARY KEY,\n",
    "Customer_engagement_active_status TEXT NOT NULL,\n",
    "Number_of_transactions Varchar NOT NULL,\n",
    "Home_Address TEXT NOT NULL,\n",
    "Email TEXT NOT NULL,\n",
    "Phone_Number Varchar(20) NOT NULL,\n",
    "Account_Number VARCHAR(20) NOT NULL)\"\"\""
   ]
  },
  {
   "cell_type": "code",
   "execution_count": 69,
   "metadata": {},
   "outputs": [],
   "source": [
    "#Add dimensions\n",
    "cursor.execute(create_customer_information_dimension)\n",
    "conn.commit()"
   ]
  },
  {
   "cell_type": "code",
   "execution_count": 70,
   "metadata": {},
   "outputs": [
    {
     "name": "stderr",
     "output_type": "stream",
     "text": [
      "/var/folders/hz/ykyh731j4wvc21cj6rsxtyy80000gn/T/ipykernel_21716/14925670.py:3: SettingWithCopyWarning: \n",
      "A value is trying to be set on a copy of a slice from a DataFrame.\n",
      "Try using .loc[row_indexer,col_indexer] = value instead\n",
      "\n",
      "See the caveats in the documentation: https://pandas.pydata.org/pandas-docs/stable/user_guide/indexing.html#returning-a-view-versus-a-copy\n",
      "  customer_information_dimension['Customer_ID'] = customer_information_dimension['Customer_ID'].astype(str)\n",
      "/var/folders/hz/ykyh731j4wvc21cj6rsxtyy80000gn/T/ipykernel_21716/14925670.py:4: SettingWithCopyWarning: \n",
      "A value is trying to be set on a copy of a slice from a DataFrame.\n",
      "Try using .loc[row_indexer,col_indexer] = value instead\n",
      "\n",
      "See the caveats in the documentation: https://pandas.pydata.org/pandas-docs/stable/user_guide/indexing.html#returning-a-view-versus-a-copy\n",
      "  customer_information_dimension['Number_of_transactions'] = customer_information_dimension['Number_of_transactions'].astype(str)\n",
      "/var/folders/hz/ykyh731j4wvc21cj6rsxtyy80000gn/T/ipykernel_21716/14925670.py:5: SettingWithCopyWarning: \n",
      "A value is trying to be set on a copy of a slice from a DataFrame.\n",
      "Try using .loc[row_indexer,col_indexer] = value instead\n",
      "\n",
      "See the caveats in the documentation: https://pandas.pydata.org/pandas-docs/stable/user_guide/indexing.html#returning-a-view-versus-a-copy\n",
      "  customer_information_dimension['Phone_Number'] = customer_information_dimension['Phone_Number'].astype(str)\n"
     ]
    }
   ],
   "source": [
    "#Change data types\n",
    "customer_information_dimension = Profitability[['Customer_ID', 'Number_of_transactions','Customer_engagement_active_status','Home_Address','Email','Phone_Number','Account_Number']]\n",
    "customer_information_dimension['Customer_ID'] = customer_information_dimension['Customer_ID'].astype(str)\n",
    "customer_information_dimension['Number_of_transactions'] = customer_information_dimension['Number_of_transactions'].astype(str)\n",
    "customer_information_dimension['Phone_Number'] = customer_information_dimension['Phone_Number'].astype(str)"
   ]
  },
  {
   "cell_type": "code",
   "execution_count": 71,
   "metadata": {},
   "outputs": [],
   "source": [
    "#Insert records\n",
    "def insert_records(recordList):\n",
    "    insert_record_query8 = \"\"\" INSERT INTO customer_information_dimension (Customer_ID, Number_of_transactions,Customer_engagement_active_status,Home_Address,Email,Phone_Number,Account_Number) VALUES (?, ?,?,?,?,?,?)\"\"\"\n",
    "    cursor.executemany(insert_record_query8, recordList)\n",
    "    conn.commit()\n",
    "    print('New data inserted successfully')"
   ]
  },
  {
   "cell_type": "code",
   "execution_count": 72,
   "metadata": {},
   "outputs": [
    {
     "name": "stdout",
     "output_type": "stream",
     "text": [
      "New data inserted successfully\n"
     ]
    }
   ],
   "source": [
    "#Add data values\n",
    "insert_list = customer_information_dimension.to_records(index=False)\n",
    "insert_records(insert_list) "
   ]
  },
  {
   "cell_type": "code",
   "execution_count": 77,
   "metadata": {},
   "outputs": [],
   "source": [
    "#Create Product dimension\n",
    "create_product_dimension = \"\"\" CREATE TABLE  product_dimension\n",
    "(Product_ID TEXT PRIMARY KEY,\n",
    "Product_Name TEXT NOT NULL,\n",
    "Product_Size TEXT NOT NULL,\n",
    "Product_Type TEXT NOT NULL,\n",
    "Product_Color TEXT NOT NULL,\n",
    "Product_Weight TEXT NOT NULL,\n",
    "Brand TEXT NOT NULL,\n",
    "Unit_per_shipping_case NUMERIC NOT NULL,\n",
    "Manufacture_name TEXT NOT NULL,\n",
    "Department_name TEXT NOT NULL,\n",
    "Seller_ID Varchar(20) NOT NULL,\n",
    "Category_Name TEXT NOT NULL,\n",
    "Unit_Price TEXT NOT NULL)\"\"\"\n",
    "cursor.execute(create_product_dimension)\n",
    "conn.commit()"
   ]
  },
  {
   "cell_type": "code",
   "execution_count": 81,
   "metadata": {},
   "outputs": [
    {
     "ename": "KeyError",
     "evalue": "\"['Unit_Price'] not in index\"",
     "output_type": "error",
     "traceback": [
      "\u001b[0;31m---------------------------------------------------------------------------\u001b[0m",
      "\u001b[0;31mKeyError\u001b[0m                                  Traceback (most recent call last)",
      "\u001b[0;32m/var/folders/hz/ykyh731j4wvc21cj6rsxtyy80000gn/T/ipykernel_21716/2383901212.py\u001b[0m in \u001b[0;36m<module>\u001b[0;34m\u001b[0m\n\u001b[1;32m      1\u001b[0m \u001b[0;31m#Change data types\u001b[0m\u001b[0;34m\u001b[0m\u001b[0;34m\u001b[0m\u001b[0m\n\u001b[0;32m----> 2\u001b[0;31m \u001b[0mproduct_dimension\u001b[0m \u001b[0;34m=\u001b[0m \u001b[0mProfitability\u001b[0m\u001b[0;34m[\u001b[0m\u001b[0;34m[\u001b[0m\u001b[0;34m'Product_Name'\u001b[0m\u001b[0;34m,\u001b[0m \u001b[0;34m'Product_ID'\u001b[0m\u001b[0;34m,\u001b[0m \u001b[0;34m'Product_Size'\u001b[0m\u001b[0;34m,\u001b[0m \u001b[0;34m'Product_Type'\u001b[0m\u001b[0;34m,\u001b[0m \u001b[0;34m'Product_Color'\u001b[0m\u001b[0;34m,\u001b[0m \u001b[0;34m'Product_Weight'\u001b[0m\u001b[0;34m,\u001b[0m \u001b[0;34m'Brand'\u001b[0m\u001b[0;34m,\u001b[0m \u001b[0;34m'Unit_per_shipping_case'\u001b[0m\u001b[0;34m,\u001b[0m \u001b[0;34m'Manufacture_name'\u001b[0m\u001b[0;34m,\u001b[0m \u001b[0;34m'Department_name'\u001b[0m\u001b[0;34m,\u001b[0m \u001b[0;34m'Category_Name'\u001b[0m\u001b[0;34m,\u001b[0m \u001b[0;34m'Seller_ID'\u001b[0m\u001b[0;34m,\u001b[0m\u001b[0;34m'Unit_Price'\u001b[0m\u001b[0;34m]\u001b[0m\u001b[0;34m]\u001b[0m\u001b[0;34m\u001b[0m\u001b[0;34m\u001b[0m\u001b[0m\n\u001b[0m\u001b[1;32m      3\u001b[0m \u001b[0mproduct_dimension\u001b[0m\u001b[0;34m[\u001b[0m\u001b[0;34m'Product_ID'\u001b[0m\u001b[0;34m]\u001b[0m \u001b[0;34m=\u001b[0m \u001b[0mproduct_dimension\u001b[0m\u001b[0;34m[\u001b[0m\u001b[0;34m'Product_ID'\u001b[0m\u001b[0;34m]\u001b[0m\u001b[0;34m.\u001b[0m\u001b[0mastype\u001b[0m\u001b[0;34m(\u001b[0m\u001b[0mstr\u001b[0m\u001b[0;34m)\u001b[0m\u001b[0;34m\u001b[0m\u001b[0;34m\u001b[0m\u001b[0m\n\u001b[1;32m      4\u001b[0m \u001b[0mproduct_dimension\u001b[0m\u001b[0;34m[\u001b[0m\u001b[0;34m'Unit_per_shipping_case'\u001b[0m\u001b[0;34m]\u001b[0m \u001b[0;34m=\u001b[0m \u001b[0mproduct_dimension\u001b[0m\u001b[0;34m[\u001b[0m\u001b[0;34m'Unit_per_shipping_case'\u001b[0m\u001b[0;34m]\u001b[0m\u001b[0;34m.\u001b[0m\u001b[0mastype\u001b[0m\u001b[0;34m(\u001b[0m\u001b[0mstr\u001b[0m\u001b[0;34m)\u001b[0m\u001b[0;34m\u001b[0m\u001b[0;34m\u001b[0m\u001b[0m\n\u001b[1;32m      5\u001b[0m \u001b[0mproduct_dimension\u001b[0m\u001b[0;34m[\u001b[0m\u001b[0;34m'Seller_ID'\u001b[0m\u001b[0;34m]\u001b[0m \u001b[0;34m=\u001b[0m \u001b[0mproduct_dimension\u001b[0m\u001b[0;34m[\u001b[0m\u001b[0;34m'Seller_ID'\u001b[0m\u001b[0;34m]\u001b[0m\u001b[0;34m.\u001b[0m\u001b[0mastype\u001b[0m\u001b[0;34m(\u001b[0m\u001b[0mstr\u001b[0m\u001b[0;34m)\u001b[0m\u001b[0;34m\u001b[0m\u001b[0;34m\u001b[0m\u001b[0m\n",
      "\u001b[0;32m~/opt/anaconda3/lib/python3.9/site-packages/pandas/core/frame.py\u001b[0m in \u001b[0;36m__getitem__\u001b[0;34m(self, key)\u001b[0m\n\u001b[1;32m   3462\u001b[0m             \u001b[0;32mif\u001b[0m \u001b[0mis_iterator\u001b[0m\u001b[0;34m(\u001b[0m\u001b[0mkey\u001b[0m\u001b[0;34m)\u001b[0m\u001b[0;34m:\u001b[0m\u001b[0;34m\u001b[0m\u001b[0;34m\u001b[0m\u001b[0m\n\u001b[1;32m   3463\u001b[0m                 \u001b[0mkey\u001b[0m \u001b[0;34m=\u001b[0m \u001b[0mlist\u001b[0m\u001b[0;34m(\u001b[0m\u001b[0mkey\u001b[0m\u001b[0;34m)\u001b[0m\u001b[0;34m\u001b[0m\u001b[0;34m\u001b[0m\u001b[0m\n\u001b[0;32m-> 3464\u001b[0;31m             \u001b[0mindexer\u001b[0m \u001b[0;34m=\u001b[0m \u001b[0mself\u001b[0m\u001b[0;34m.\u001b[0m\u001b[0mloc\u001b[0m\u001b[0;34m.\u001b[0m\u001b[0m_get_listlike_indexer\u001b[0m\u001b[0;34m(\u001b[0m\u001b[0mkey\u001b[0m\u001b[0;34m,\u001b[0m \u001b[0maxis\u001b[0m\u001b[0;34m=\u001b[0m\u001b[0;36m1\u001b[0m\u001b[0;34m)\u001b[0m\u001b[0;34m[\u001b[0m\u001b[0;36m1\u001b[0m\u001b[0;34m]\u001b[0m\u001b[0;34m\u001b[0m\u001b[0;34m\u001b[0m\u001b[0m\n\u001b[0m\u001b[1;32m   3465\u001b[0m \u001b[0;34m\u001b[0m\u001b[0m\n\u001b[1;32m   3466\u001b[0m         \u001b[0;31m# take() does not accept boolean indexers\u001b[0m\u001b[0;34m\u001b[0m\u001b[0;34m\u001b[0m\u001b[0m\n",
      "\u001b[0;32m~/opt/anaconda3/lib/python3.9/site-packages/pandas/core/indexing.py\u001b[0m in \u001b[0;36m_get_listlike_indexer\u001b[0;34m(self, key, axis)\u001b[0m\n\u001b[1;32m   1312\u001b[0m             \u001b[0mkeyarr\u001b[0m\u001b[0;34m,\u001b[0m \u001b[0mindexer\u001b[0m\u001b[0;34m,\u001b[0m \u001b[0mnew_indexer\u001b[0m \u001b[0;34m=\u001b[0m \u001b[0max\u001b[0m\u001b[0;34m.\u001b[0m\u001b[0m_reindex_non_unique\u001b[0m\u001b[0;34m(\u001b[0m\u001b[0mkeyarr\u001b[0m\u001b[0;34m)\u001b[0m\u001b[0;34m\u001b[0m\u001b[0;34m\u001b[0m\u001b[0m\n\u001b[1;32m   1313\u001b[0m \u001b[0;34m\u001b[0m\u001b[0m\n\u001b[0;32m-> 1314\u001b[0;31m         \u001b[0mself\u001b[0m\u001b[0;34m.\u001b[0m\u001b[0m_validate_read_indexer\u001b[0m\u001b[0;34m(\u001b[0m\u001b[0mkeyarr\u001b[0m\u001b[0;34m,\u001b[0m \u001b[0mindexer\u001b[0m\u001b[0;34m,\u001b[0m \u001b[0maxis\u001b[0m\u001b[0;34m)\u001b[0m\u001b[0;34m\u001b[0m\u001b[0;34m\u001b[0m\u001b[0m\n\u001b[0m\u001b[1;32m   1315\u001b[0m \u001b[0;34m\u001b[0m\u001b[0m\n\u001b[1;32m   1316\u001b[0m         if needs_i8_conversion(ax.dtype) or isinstance(\n",
      "\u001b[0;32m~/opt/anaconda3/lib/python3.9/site-packages/pandas/core/indexing.py\u001b[0m in \u001b[0;36m_validate_read_indexer\u001b[0;34m(self, key, indexer, axis)\u001b[0m\n\u001b[1;32m   1375\u001b[0m \u001b[0;34m\u001b[0m\u001b[0m\n\u001b[1;32m   1376\u001b[0m             \u001b[0mnot_found\u001b[0m \u001b[0;34m=\u001b[0m \u001b[0mlist\u001b[0m\u001b[0;34m(\u001b[0m\u001b[0mensure_index\u001b[0m\u001b[0;34m(\u001b[0m\u001b[0mkey\u001b[0m\u001b[0;34m)\u001b[0m\u001b[0;34m[\u001b[0m\u001b[0mmissing_mask\u001b[0m\u001b[0;34m.\u001b[0m\u001b[0mnonzero\u001b[0m\u001b[0;34m(\u001b[0m\u001b[0;34m)\u001b[0m\u001b[0;34m[\u001b[0m\u001b[0;36m0\u001b[0m\u001b[0;34m]\u001b[0m\u001b[0;34m]\u001b[0m\u001b[0;34m.\u001b[0m\u001b[0munique\u001b[0m\u001b[0;34m(\u001b[0m\u001b[0;34m)\u001b[0m\u001b[0;34m)\u001b[0m\u001b[0;34m\u001b[0m\u001b[0;34m\u001b[0m\u001b[0m\n\u001b[0;32m-> 1377\u001b[0;31m             \u001b[0;32mraise\u001b[0m \u001b[0mKeyError\u001b[0m\u001b[0;34m(\u001b[0m\u001b[0;34mf\"{not_found} not in index\"\u001b[0m\u001b[0;34m)\u001b[0m\u001b[0;34m\u001b[0m\u001b[0;34m\u001b[0m\u001b[0m\n\u001b[0m\u001b[1;32m   1378\u001b[0m \u001b[0;34m\u001b[0m\u001b[0m\n\u001b[1;32m   1379\u001b[0m \u001b[0;34m\u001b[0m\u001b[0m\n",
      "\u001b[0;31mKeyError\u001b[0m: \"['Unit_Price'] not in index\""
     ]
    }
   ],
   "source": [
    "#Change data types\n",
    "product_dimension = Profitability[['Product_Name', 'Product_ID', 'Product_Size', 'Product_Type', 'Product_Color', 'Product_Weight', 'Brand', 'Unit_per_shipping_case', 'Manufacture_name', 'Department_name', 'Category_Name', 'Seller_ID','Unit_Price']]\n",
    "product_dimension['Product_ID'] = product_dimension['Product_ID'].astype(str)\n",
    "product_dimension['Unit_per_shipping_case'] = product_dimension['Unit_per_shipping_case'].astype(str)\n",
    "product_dimension['Seller_ID'] = product_dimension['Seller_ID'].astype(str)"
   ]
  },
  {
   "cell_type": "code",
   "execution_count": null,
   "metadata": {},
   "outputs": [],
   "source": [
    "#Insert records\n",
    "def insert_records(recordList):\n",
    "    insert_record_query9 = \"\"\" INSERT INTO product_dimension (Product_Name, Product_ID, Product_Size, Product_Type, Product_Color, Product_Weight, Brand, Unit_per_shipping_case, Manufacture_name, Department_name, Category_Name, Seller_ID,Unit_price) VALUES (?,?, ?,?,?,?,?,?,?,?,?,?,?)\"\"\"\n",
    "    cursor.executemany(insert_record_query9, recordList)\n",
    "    conn.commit()\n",
    "    print('New data inserted successfully')"
   ]
  },
  {
   "cell_type": "code",
   "execution_count": null,
   "metadata": {},
   "outputs": [],
   "source": [
    "#Add data values\n",
    "insert_list = product_dimension.to_records(index=False)\n",
    "insert_records(insert_list) "
   ]
  },
  {
   "cell_type": "code",
   "execution_count": null,
   "metadata": {},
   "outputs": [],
   "source": [
    "#Create Seller dimension table\n",
    "create_seller_dimension = \"\"\" CREATE TABLE  seller_dimension\n",
    "(Seller_ID TEXT PRIMARY KEY,\n",
    "Seller_Name TEXT NOT NULL,\n",
    "Seller_Type TEXT NOT NULL,\n",
    "Seller_City TEXT NOT NULL,\n",
    "Seller_Country TEXT NOT NULL,\n",
    "Seller_Province TEXT NOT NULL,\n",
    "Seller_Street TEXT NOT NULL,\n",
    "Last_Name TEXT NOT NULL,\n",
    "First_Name TEXT NOT NULL,\n",
    "Contact_phone_country_code TEXT NOT NULL,\n",
    "PHONE_NUMBER TEXT NOT NULL)\"\"\"\n",
    "cursor.execute(create_seller_dimension)\n",
    "conn.commit()"
   ]
  },
  {
   "cell_type": "code",
   "execution_count": null,
   "metadata": {},
   "outputs": [],
   "source": [
    "#Change data types\n",
    "seller_dimension = Profitability[['Seller_ID', 'Seller_Name', 'Seller_Type', 'Seller_City', 'Seller_Province', 'Seller_Country', 'Seller_Street', 'Last_Name', 'First_Name', 'Contact_phone_country_code', 'PHONE_NUMBER']]\n",
    "seller_dimension['Seller_ID'] = seller_dimension['Seller_ID'].astype(str) \n",
    "seller_dimension['Contact_phone_country_code'] = seller_dimension['Contact_phone_country_code'].astype(str) \n",
    "seller_dimension['PHONE_NUMBER'] = seller_dimension['PHONE_NUMBER'].astype(str) "
   ]
  },
  {
   "cell_type": "code",
   "execution_count": null,
   "metadata": {},
   "outputs": [],
   "source": [
    "#Insert records\n",
    "def insert_records(recordList):\n",
    "    insert_record_query9 = \"\"\" INSERT INTO seller_dimension (Seller_ID, Seller_Name, Seller_Type, Seller_City, Seller_Province, Seller_Country, Seller_Street, Last_Name, First_Name, Contact_phone_country_code, PHONE_NUMBER) VALUES (?, ?,?,?,?,?, ?,?,?,?,?)\"\"\"\n",
    "    cursor.executemany(insert_record_query9, recordList)\n",
    "    conn.commit()\n",
    "    print('New data inserted successfully')"
   ]
  },
  {
   "cell_type": "code",
   "execution_count": null,
   "metadata": {},
   "outputs": [],
   "source": [
    "#Add data values\n",
    "insert_list = seller_dimension.to_records(index=False)\n",
    "insert_records(insert_list) "
   ]
  },
  {
   "cell_type": "code",
   "execution_count": null,
   "metadata": {},
   "outputs": [],
   "source": [
    "#Create Profitability Fact Table & specify data types and constraints\n",
    "create_table_query2 = \"\"\" CREATE TABLE  Profitability_Fact_Table\n",
    "(Product_ID Varchar(20) PRIMARY KEY,\n",
    "Date_ID NUMERIC NOT NULL,\n",
    "Transaction_ID TEXT NOT NULL,\n",
    "Discount_ID TEXT NOT NULL,\n",
    "Advertising_ID TEXT NOT NULL,  \n",
    "Customer_ID TEXT NOT NULL)\"\"\"\n",
    "#Execute query and make change permanent\n",
    "cursor.execute(create_table_query2)\n",
    "conn.commit()"
   ]
  },
  {
   "cell_type": "code",
   "execution_count": null,
   "metadata": {},
   "outputs": [],
   "source": [
    "#Add features to fact table\n",
    "Profitability_Fact_Table = Profitability[[\"Product_ID\",'Date_ID','Transaction_ID','Discount_ID','Advertising_ID','Customer_ID']]"
   ]
  },
  {
   "cell_type": "code",
   "execution_count": null,
   "metadata": {},
   "outputs": [],
   "source": [
    "#Change data type\n",
    "Profitability_Fact_Table[\"Product_ID\"] = Profitability_Fact_Table[\"Product_ID\"].astype(str) \n",
    "Profitability_Fact_Table['Date_ID'] = Profitability_Fact_Table['Date_ID'].astype(str)"
   ]
  },
  {
   "cell_type": "code",
   "execution_count": null,
   "metadata": {},
   "outputs": [],
   "source": [
    "#Insert records\n",
    "def insert_records(recordList):\n",
    "    insert_record_query9 = \"\"\" INSERT INTO Profitability_Fact_Table (Product_ID,Date_ID,Transaction_ID,Discount_ID,Advertising_ID,Customer_ID) VALUES (?, ?,?,?,?,?)\"\"\"\n",
    "    cursor.executemany(insert_record_query9, recordList)\n",
    "    conn.commit()\n",
    "    print('New data inserted successfully')"
   ]
  },
  {
   "cell_type": "code",
   "execution_count": null,
   "metadata": {},
   "outputs": [],
   "source": [
    "#Add data values\n",
    "insert_list = Profitability_Fact_Table.to_records(index=False)\n",
    "insert_records(insert_list) "
   ]
  }
 ],
 "metadata": {
  "kernelspec": {
   "display_name": "Python 3 (ipykernel)",
   "language": "python",
   "name": "python3"
  },
  "language_info": {
   "codemirror_mode": {
    "name": "ipython",
    "version": 3
   },
   "file_extension": ".py",
   "mimetype": "text/x-python",
   "name": "python",
   "nbconvert_exporter": "python",
   "pygments_lexer": "ipython3",
   "version": "3.9.7"
  }
 },
 "nbformat": 4,
 "nbformat_minor": 4
}
