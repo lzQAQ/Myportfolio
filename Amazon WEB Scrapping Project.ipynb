{
 "cells": [
  {
   "cell_type": "code",
   "execution_count": 68,
   "id": "70e97282",
   "metadata": {},
   "outputs": [],
   "source": [
    "# import libraries\n",
    "\n",
    "from bs4 import BeautifulSoup\n",
    "import requests\n",
    "import time\n",
    "import datetime\n",
    "import smtplib\n",
    "import csv\n",
    "import pandas as pd"
   ]
  },
  {
   "cell_type": "code",
   "execution_count": 69,
   "id": "523574ab",
   "metadata": {},
   "outputs": [
    {
     "name": "stdout",
     "output_type": "stream",
     "text": [
      "\n",
      "            International Version – Kindle Paperwhite – (previous generation - 2018 release) Now Waterproof with 2x the Storage - 8 GB\n",
      "           \n",
      "\n",
      "\n",
      "\n",
      "\n",
      "\n",
      "              价格:\n",
      "             \n",
      "\n",
      "\n",
      "\n",
      "                US$149.99\n",
      "               \n",
      "\n",
      "                US$149.99\n",
      "               \n",
      "\n",
      "\n",
      "\n",
      "\n",
      "\n",
      "\n",
      "\n",
      "\n",
      "\n",
      "\n",
      "\n",
      "\n",
      "\n",
      "\n",
      "\n",
      "\n",
      "\n",
      "\n",
      "\n",
      "\n",
      "\n",
      "\n",
      "\n",
      "\n"
     ]
    }
   ],
   "source": [
    "# connect to website will be using\n",
    "URL = 'https://www.amazon.com/-/zh/dp/B07741S7Y8/ref=p13n_ds_purchase_sim_1p_dp_desktop_2/132-9159996-0757304?pd_rd_w=LF8pY&pf_rd_p=a1e2cc28-dc94-4535-bc22-27c603bb8fa2&pf_rd_r=7YQJ2BTMQVY98K7QFXSN&pd_rd_r=a9588067-1fc0-48b3-bead-c5b808c5f552&pd_rd_wg=SR9MG&pd_rd_i=B07741S7Y8&psc=1'\n",
    "\n",
    "headers = {\"User-Agent\": \"Mozilla/5.0 (Macintosh; Intel Mac OS X 10_15_7) AppleWebKit/605.1.15 (KHTML, like Gecko) Version/15.2 Safari/605.1.15\", \"X-Amzn-Trace-Id\": \"Root=1-62014113-07cebb7770fc2b371b6e1099\"}\n",
    "\n",
    "page = requests.get(URL, headers=headers)\n",
    "\n",
    "# usig beautifulsoup library\n",
    "soup1 = BeautifulSoup(page.content, \"html.parser\")\n",
    "# change the format of soup1 \n",
    "soup2 = BeautifulSoup(soup1.prettify(), \"html.parser\")\n",
    "\n",
    "title = soup2.find(id = 'productTitle').get_text()\n",
    "print(title)\n",
    "price = soup2.find(id='corePrice_desktop').get_text()\n",
    "print(price)"
   ]
  },
  {
   "cell_type": "code",
   "execution_count": 70,
   "id": "3dac1232",
   "metadata": {},
   "outputs": [
    {
     "name": "stdout",
     "output_type": "stream",
     "text": [
      "International Version – Kindle Paperwhite – (previous generation - 2018 release) Now Waterproof with 2x the Storage - 8 GB\n",
      "149.9\n",
      "2022-02-07\n"
     ]
    }
   ],
   "source": [
    "#get the correct price and format the result\n",
    "price = price.strip()[40:45]\n",
    "title = title.strip()\n",
    "print(title)\n",
    "print(price)\n",
    "today = datetime.date.today()\n",
    "print(today)"
   ]
  },
  {
   "cell_type": "code",
   "execution_count": 71,
   "id": "f50c2a59",
   "metadata": {},
   "outputs": [
    {
     "data": {
      "text/plain": [
       "list"
      ]
     },
     "execution_count": 71,
     "metadata": {},
     "output_type": "execute_result"
    }
   ],
   "source": [
    "#pulling data out into CSV file automatically overtime\n",
    "header = ['Title', 'Price','Date']\n",
    "data = [title, price, today]\n",
    "#convert data to list\n",
    "type(data)"
   ]
  },
  {
   "cell_type": "code",
   "execution_count": 72,
   "id": "f38ddbac",
   "metadata": {},
   "outputs": [],
   "source": [
    "with open('AmazonWebScrapper.csv', 'w', newline = '', encoding = 'UTF8' )as f:\n",
    "    writer = csv.writer(f)\n",
    "    writer.writerow(header)\n",
    "    writer.writerow(data)\n",
    "    "
   ]
  },
  {
   "cell_type": "code",
   "execution_count": 73,
   "id": "7fedcf64",
   "metadata": {},
   "outputs": [
    {
     "name": "stdout",
     "output_type": "stream",
     "text": [
      "                                               Title  Price  Date\n",
      "0  International Version – Kindle Paperwhite – (p...  149.9   NaN\n"
     ]
    }
   ],
   "source": [
    "df = pd.read_csv(r'/Users/zhangli/Amazon project/AmazonWebScrapper.csv')\n",
    "print(df)"
   ]
  },
  {
   "cell_type": "code",
   "execution_count": null,
   "id": "e66678b5",
   "metadata": {},
   "outputs": [],
   "source": [
    "# appending new data to csv (except header row )\n",
    "with open('AmazonWebScrapper.csv', 'a+', newline = '', encoding = 'UTF8' )as f:\n",
    "    writer = csv.writer(f)\n",
    "    writer.writerow(data)"
   ]
  },
  {
   "cell_type": "code",
   "execution_count": 76,
   "id": "fcc99b02",
   "metadata": {},
   "outputs": [],
   "source": [
    "#create a check price function to check the price\n",
    "def check_price():\n",
    "    URL = 'https://www.amazon.com/-/zh/dp/B07741S7Y8/ref=p13n_ds_purchase_sim_1p_dp_desktop_2/132-9159996-0757304?pd_rd_w=LF8pY&pf_rd_p=a1e2cc28-dc94-4535-bc22-27c603bb8fa2&pf_rd_r=7YQJ2BTMQVY98K7QFXSN&pd_rd_r=a9588067-1fc0-48b3-bead-c5b808c5f552&pd_rd_wg=SR9MG&pd_rd_i=B07741S7Y8&psc=1'\n",
    "    headers = {\"User-Agent\": \"Mozilla/5.0 (Macintosh; Intel Mac OS X 10_15_7) AppleWebKit/605.1.15 (KHTML, like Gecko) Version/15.2 Safari/605.1.15\", \"X-Amzn-Trace-Id\": \"Root=1-62014113-07cebb7770fc2b371b6e1099\"}\n",
    "\n",
    "    page = requests.get(URL, headers=headers)\n",
    "\n",
    "    soup1 = BeautifulSoup(page.content, \"html.parser\")\n",
    "    soup2 = BeautifulSoup(soup1.prettify(), \"html.parser\")\n",
    "\n",
    "    title = soup2.find(id = 'productTitle').get_text()\n",
    "    price = soup2.find(id='corePrice_desktop').get_text()\n",
    "    price = price.strip()[40:45]\n",
    "    title = title.strip()\n",
    "  \n",
    "    import datetime\n",
    "    today = datetime.date.today()\n",
    "\n",
    "    import csv\n",
    "    header = ['Title', 'Price','Date']\n",
    "    data = [title, price, today]\n",
    "\n",
    "    with open('AmazonWebScrapper.csv', 'a+', newline = '', encoding = 'UTF8' )as f:\n",
    "        writer = csv.writer(f)\n",
    "        writer.writerow(data)\n",
    "        \n",
    "# check price if price is less than 99 perform send email fuction to send a eamil       \n",
    "if (price < 14):\n",
    "    senc_mail()"
   ]
  },
  {
   "cell_type": "code",
   "execution_count": null,
   "id": "28028d00",
   "metadata": {},
   "outputs": [],
   "source": [
    "#create a timer to run check_price function every day\n",
    "while (True ):\n",
    "    check_price()\n",
    "    time.sleep(86400)"
   ]
  },
  {
   "cell_type": "code",
   "execution_count": null,
   "id": "9cdaacab",
   "metadata": {},
   "outputs": [],
   "source": [
    "df = pd.read_csv(r'/Users/zhangli/Amazon project/AmazonWebScrapper.csv')\n",
    "print(df)"
   ]
  },
  {
   "cell_type": "code",
   "execution_count": null,
   "id": "468e23a4",
   "metadata": {},
   "outputs": [],
   "source": [
    "#create function send email when price is less than 99\n",
    "def send_mail():\n",
    "    server = smtplib.SMTP_SSL('smtp.gmail.com',465)\n",
    "    server.ehlo()\n",
    "    #server.starttls()\n",
    "    server.ehlo()\n",
    "    server.login('zhangli19980918@gmail.com','xxxxxxxxxxxxxx')\n",
    "    \n",
    "    subject = \"The item you want is below $99! \"\n",
    "    body = \"Li it's time to buy. Don't mess it up! Link here: https://www.amazon.com/Funny-Data-Systems-Business-Analyst/dp/B07FNW9FGJ/ref=sr_1_3?dchild=1&keywords=data+analyst+tshirt&qid=1626655184&sr=8-3\"\n",
    "   \n",
    "    msg = f\"Subject: {subject}\\n\\n{body}\"\n",
    "    \n",
    "    server.sendmail(\n",
    "        'zhang19980918@gmail.com',\n",
    "        msg\n",
    "     \n",
    "    )"
   ]
  }
 ],
 "metadata": {
  "kernelspec": {
   "display_name": "Python 3 (ipykernel)",
   "language": "python",
   "name": "python3"
  },
  "language_info": {
   "codemirror_mode": {
    "name": "ipython",
    "version": 3
   },
   "file_extension": ".py",
   "mimetype": "text/x-python",
   "name": "python",
   "nbconvert_exporter": "python",
   "pygments_lexer": "ipython3",
   "version": "3.9.7"
  }
 },
 "nbformat": 4,
 "nbformat_minor": 5
}
